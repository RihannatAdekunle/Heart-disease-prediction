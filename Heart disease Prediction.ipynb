{
 "cells": [
  {
   "cell_type": "code",
   "execution_count": 3,
   "id": "220956b0-8db5-4017-9c3f-1e23968ec703",
   "metadata": {},
   "outputs": [],
   "source": [
    "# Import necessary libraries\n",
    "import pandas as pd\n",
    "import numpy as np \n",
    "import seaborn as sns\n",
    "import matplotlib.pyplot as plt\n",
    "from sklearn.preprocessing import LabelEncoder\n",
    "from scipy.stats import zscore\n",
    "import plotly.express as px\n",
    "from sklearn.preprocessing import RobustScaler, StandardScaler\n",
    "from sklearn.model_selection import train_test_split\n",
    "from sklearn.linear_model import LogisticRegression\n",
    "from sklearn.datasets import make_classification\n",
    "from sklearn.metrics import accuracy_score\n",
    "from sklearn.metrics import accuracy_score,classification_report\n",
    "from sklearn.ensemble import RandomForestRegressor\n",
    "from sklearn.metrics import r2_score\n",
    "from sklearn.metrics import mean_squared_error\n",
    "from sklearn.tree import DecisionTreeClassifier\n",
    "from sklearn.feature_selection import RFE\n",
    "from sklearn.model_selection import GridSearchCV\n",
    "from sklearn.model_selection import RandomizedSearchCV"
   ]
  },
  {
   "cell_type": "code",
   "execution_count": 7,
   "id": "b653ba87-bde4-4786-88f2-8b09437109c4",
   "metadata": {},
   "outputs": [
    {
     "data": {
      "text/html": [
       "<div>\n",
       "<style scoped>\n",
       "    .dataframe tbody tr th:only-of-type {\n",
       "        vertical-align: middle;\n",
       "    }\n",
       "\n",
       "    .dataframe tbody tr th {\n",
       "        vertical-align: top;\n",
       "    }\n",
       "\n",
       "    .dataframe thead th {\n",
       "        text-align: right;\n",
       "    }\n",
       "</style>\n",
       "<table border=\"1\" class=\"dataframe\">\n",
       "  <thead>\n",
       "    <tr style=\"text-align: right;\">\n",
       "      <th></th>\n",
       "      <th>id</th>\n",
       "      <th>age</th>\n",
       "      <th>sex</th>\n",
       "      <th>cp</th>\n",
       "      <th>trestbps</th>\n",
       "      <th>chol</th>\n",
       "      <th>fbs</th>\n",
       "      <th>restecg</th>\n",
       "      <th>thalach</th>\n",
       "      <th>exang</th>\n",
       "      <th>oldpeak</th>\n",
       "      <th>slope</th>\n",
       "      <th>ca</th>\n",
       "      <th>thal</th>\n",
       "      <th>target</th>\n",
       "    </tr>\n",
       "  </thead>\n",
       "  <tbody>\n",
       "    <tr>\n",
       "      <th>0</th>\n",
       "      <td>30921</td>\n",
       "      <td>49</td>\n",
       "      <td>1</td>\n",
       "      <td>2</td>\n",
       "      <td>105</td>\n",
       "      <td>220</td>\n",
       "      <td>1</td>\n",
       "      <td>1</td>\n",
       "      <td>195</td>\n",
       "      <td>1</td>\n",
       "      <td>1.0</td>\n",
       "      <td>1</td>\n",
       "      <td>2</td>\n",
       "      <td>3</td>\n",
       "      <td>1</td>\n",
       "    </tr>\n",
       "    <tr>\n",
       "      <th>1</th>\n",
       "      <td>73128</td>\n",
       "      <td>29</td>\n",
       "      <td>1</td>\n",
       "      <td>0</td>\n",
       "      <td>160</td>\n",
       "      <td>180</td>\n",
       "      <td>0</td>\n",
       "      <td>2</td>\n",
       "      <td>198</td>\n",
       "      <td>0</td>\n",
       "      <td>6.0</td>\n",
       "      <td>2</td>\n",
       "      <td>1</td>\n",
       "      <td>0</td>\n",
       "      <td>1</td>\n",
       "    </tr>\n",
       "    <tr>\n",
       "      <th>2</th>\n",
       "      <td>45328</td>\n",
       "      <td>46</td>\n",
       "      <td>1</td>\n",
       "      <td>2</td>\n",
       "      <td>115</td>\n",
       "      <td>131</td>\n",
       "      <td>1</td>\n",
       "      <td>2</td>\n",
       "      <td>125</td>\n",
       "      <td>1</td>\n",
       "      <td>2.3</td>\n",
       "      <td>0</td>\n",
       "      <td>0</td>\n",
       "      <td>0</td>\n",
       "      <td>1</td>\n",
       "    </tr>\n",
       "    <tr>\n",
       "      <th>3</th>\n",
       "      <td>67372</td>\n",
       "      <td>41</td>\n",
       "      <td>1</td>\n",
       "      <td>2</td>\n",
       "      <td>161</td>\n",
       "      <td>454</td>\n",
       "      <td>1</td>\n",
       "      <td>2</td>\n",
       "      <td>159</td>\n",
       "      <td>1</td>\n",
       "      <td>3.5</td>\n",
       "      <td>2</td>\n",
       "      <td>4</td>\n",
       "      <td>0</td>\n",
       "      <td>1</td>\n",
       "    </tr>\n",
       "    <tr>\n",
       "      <th>4</th>\n",
       "      <td>41642</td>\n",
       "      <td>57</td>\n",
       "      <td>1</td>\n",
       "      <td>3</td>\n",
       "      <td>129</td>\n",
       "      <td>277</td>\n",
       "      <td>0</td>\n",
       "      <td>1</td>\n",
       "      <td>80</td>\n",
       "      <td>0</td>\n",
       "      <td>5.6</td>\n",
       "      <td>0</td>\n",
       "      <td>2</td>\n",
       "      <td>0</td>\n",
       "      <td>0</td>\n",
       "    </tr>\n",
       "  </tbody>\n",
       "</table>\n",
       "</div>"
      ],
      "text/plain": [
       "      id  age  sex  cp  trestbps  chol  fbs  restecg  thalach  exang  oldpeak  \\\n",
       "0  30921   49    1   2       105   220    1        1      195      1      1.0   \n",
       "1  73128   29    1   0       160   180    0        2      198      0      6.0   \n",
       "2  45328   46    1   2       115   131    1        2      125      1      2.3   \n",
       "3  67372   41    1   2       161   454    1        2      159      1      3.5   \n",
       "4  41642   57    1   3       129   277    0        1       80      0      5.6   \n",
       "\n",
       "   slope  ca  thal  target  \n",
       "0      1   2     3       1  \n",
       "1      2   1     0       1  \n",
       "2      0   0     0       1  \n",
       "3      2   4     0       1  \n",
       "4      0   2     0       0  "
      ]
     },
     "execution_count": 7,
     "metadata": {},
     "output_type": "execute_result"
    }
   ],
   "source": [
    "# Import necessary libraries\n",
    "#import Train Data\n",
    "data_path = \"/Users/Rihannat/Downloads/Train (1).csv\"\n",
    "df = pd.read_csv(data_path)\n",
    "df.head()"
   ]
  },
  {
   "cell_type": "code",
   "execution_count": 9,
   "id": "3e596a83-9090-4eb8-b473-84a9bccaf737",
   "metadata": {},
   "outputs": [
    {
     "data": {
      "text/plain": [
       "(7087, 15)"
      ]
     },
     "execution_count": 9,
     "metadata": {},
     "output_type": "execute_result"
    }
   ],
   "source": [
    "df.shape"
   ]
  },
  {
   "cell_type": "code",
   "execution_count": 10,
   "id": "3a190e55-a4c1-448c-9439-f3720d03a638",
   "metadata": {},
   "outputs": [
    {
     "data": {
      "text/plain": [
       "id          0\n",
       "age         0\n",
       "sex         0\n",
       "cp          0\n",
       "trestbps    0\n",
       "chol        0\n",
       "fbs         0\n",
       "restecg     0\n",
       "thalach     0\n",
       "exang       0\n",
       "oldpeak     0\n",
       "slope       0\n",
       "ca          0\n",
       "thal        0\n",
       "target      0\n",
       "dtype: int64"
      ]
     },
     "execution_count": 10,
     "metadata": {},
     "output_type": "execute_result"
    }
   ],
   "source": [
    "#checking for null valve\n",
    "df.isnull().sum()"
   ]
  },
  {
   "cell_type": "code",
   "execution_count": 11,
   "id": "c234b4df-445f-4e36-9229-7b154e730696",
   "metadata": {},
   "outputs": [
    {
     "name": "stdout",
     "output_type": "stream",
     "text": [
      "<class 'pandas.core.frame.DataFrame'>\n",
      "RangeIndex: 7087 entries, 0 to 7086\n",
      "Data columns (total 15 columns):\n",
      " #   Column    Non-Null Count  Dtype  \n",
      "---  ------    --------------  -----  \n",
      " 0   id        7087 non-null   int64  \n",
      " 1   age       7087 non-null   int64  \n",
      " 2   sex       7087 non-null   int64  \n",
      " 3   cp        7087 non-null   int64  \n",
      " 4   trestbps  7087 non-null   int64  \n",
      " 5   chol      7087 non-null   int64  \n",
      " 6   fbs       7087 non-null   int64  \n",
      " 7   restecg   7087 non-null   int64  \n",
      " 8   thalach   7087 non-null   int64  \n",
      " 9   exang     7087 non-null   int64  \n",
      " 10  oldpeak   7087 non-null   float64\n",
      " 11  slope     7087 non-null   int64  \n",
      " 12  ca        7087 non-null   int64  \n",
      " 13  thal      7087 non-null   int64  \n",
      " 14  target    7087 non-null   int64  \n",
      "dtypes: float64(1), int64(14)\n",
      "memory usage: 830.6 KB\n"
     ]
    }
   ],
   "source": [
    "#checking for each column datatype\n",
    "df.info()"
   ]
  },
  {
   "cell_type": "code",
   "execution_count": 12,
   "id": "d9c6b2d0-0451-4661-b5d7-a1f43fe3f99f",
   "metadata": {},
   "outputs": [
    {
     "name": "stdout",
     "output_type": "stream",
     "text": [
      "0\n"
     ]
    },
    {
     "data": {
      "text/html": [
       "<div>\n",
       "<style scoped>\n",
       "    .dataframe tbody tr th:only-of-type {\n",
       "        vertical-align: middle;\n",
       "    }\n",
       "\n",
       "    .dataframe tbody tr th {\n",
       "        vertical-align: top;\n",
       "    }\n",
       "\n",
       "    .dataframe thead th {\n",
       "        text-align: right;\n",
       "    }\n",
       "</style>\n",
       "<table border=\"1\" class=\"dataframe\">\n",
       "  <thead>\n",
       "    <tr style=\"text-align: right;\">\n",
       "      <th></th>\n",
       "      <th>id</th>\n",
       "      <th>age</th>\n",
       "      <th>sex</th>\n",
       "      <th>cp</th>\n",
       "      <th>trestbps</th>\n",
       "      <th>chol</th>\n",
       "      <th>fbs</th>\n",
       "      <th>restecg</th>\n",
       "      <th>thalach</th>\n",
       "      <th>exang</th>\n",
       "      <th>oldpeak</th>\n",
       "      <th>slope</th>\n",
       "      <th>ca</th>\n",
       "      <th>thal</th>\n",
       "      <th>target</th>\n",
       "    </tr>\n",
       "  </thead>\n",
       "  <tbody>\n",
       "  </tbody>\n",
       "</table>\n",
       "</div>"
      ],
      "text/plain": [
       "Empty DataFrame\n",
       "Columns: [id, age, sex, cp, trestbps, chol, fbs, restecg, thalach, exang, oldpeak, slope, ca, thal, target]\n",
       "Index: []"
      ]
     },
     "execution_count": 12,
     "metadata": {},
     "output_type": "execute_result"
    }
   ],
   "source": [
    "#checking for duplicate\n",
    "df_duplicate = df.duplicated()\n",
    "print(df_duplicate.sum())\n",
    "df[df_duplicate]"
   ]
  },
  {
   "cell_type": "code",
   "execution_count": 13,
   "id": "e1e8d0f8-1f89-49ba-adf3-e0adec3191eb",
   "metadata": {},
   "outputs": [
    {
     "data": {
      "text/html": [
       "<div>\n",
       "<style scoped>\n",
       "    .dataframe tbody tr th:only-of-type {\n",
       "        vertical-align: middle;\n",
       "    }\n",
       "\n",
       "    .dataframe tbody tr th {\n",
       "        vertical-align: top;\n",
       "    }\n",
       "\n",
       "    .dataframe thead th {\n",
       "        text-align: right;\n",
       "    }\n",
       "</style>\n",
       "<table border=\"1\" class=\"dataframe\">\n",
       "  <thead>\n",
       "    <tr style=\"text-align: right;\">\n",
       "      <th></th>\n",
       "      <th>id</th>\n",
       "      <th>age</th>\n",
       "      <th>sex</th>\n",
       "      <th>cp</th>\n",
       "      <th>trestbps</th>\n",
       "      <th>chol</th>\n",
       "      <th>fbs</th>\n",
       "      <th>restecg</th>\n",
       "      <th>thalach</th>\n",
       "      <th>exang</th>\n",
       "      <th>oldpeak</th>\n",
       "      <th>slope</th>\n",
       "      <th>ca</th>\n",
       "      <th>thal</th>\n",
       "      <th>target</th>\n",
       "    </tr>\n",
       "  </thead>\n",
       "  <tbody>\n",
       "    <tr>\n",
       "      <th>count</th>\n",
       "      <td>7087.000000</td>\n",
       "      <td>7087.000000</td>\n",
       "      <td>7087.000000</td>\n",
       "      <td>7087.000000</td>\n",
       "      <td>7087.000000</td>\n",
       "      <td>7087.000000</td>\n",
       "      <td>7087.000000</td>\n",
       "      <td>7087.000000</td>\n",
       "      <td>7087.000000</td>\n",
       "      <td>7087.000000</td>\n",
       "      <td>7087.000000</td>\n",
       "      <td>7087.000000</td>\n",
       "      <td>7087.000000</td>\n",
       "      <td>7087.000000</td>\n",
       "      <td>7087.000000</td>\n",
       "    </tr>\n",
       "    <tr>\n",
       "      <th>mean</th>\n",
       "      <td>50520.455341</td>\n",
       "      <td>53.161987</td>\n",
       "      <td>0.498660</td>\n",
       "      <td>1.511923</td>\n",
       "      <td>147.749259</td>\n",
       "      <td>343.852265</td>\n",
       "      <td>0.499365</td>\n",
       "      <td>1.011006</td>\n",
       "      <td>136.083251</td>\n",
       "      <td>0.500494</td>\n",
       "      <td>3.126556</td>\n",
       "      <td>0.995485</td>\n",
       "      <td>2.023705</td>\n",
       "      <td>1.496402</td>\n",
       "      <td>0.811486</td>\n",
       "    </tr>\n",
       "    <tr>\n",
       "      <th>std</th>\n",
       "      <td>23091.461196</td>\n",
       "      <td>14.217069</td>\n",
       "      <td>0.500033</td>\n",
       "      <td>1.118239</td>\n",
       "      <td>31.019531</td>\n",
       "      <td>127.795534</td>\n",
       "      <td>0.500035</td>\n",
       "      <td>0.816595</td>\n",
       "      <td>38.022627</td>\n",
       "      <td>0.500035</td>\n",
       "      <td>1.784760</td>\n",
       "      <td>0.817175</td>\n",
       "      <td>1.411018</td>\n",
       "      <td>1.118296</td>\n",
       "      <td>0.391150</td>\n",
       "    </tr>\n",
       "    <tr>\n",
       "      <th>min</th>\n",
       "      <td>10019.000000</td>\n",
       "      <td>29.000000</td>\n",
       "      <td>0.000000</td>\n",
       "      <td>0.000000</td>\n",
       "      <td>94.000000</td>\n",
       "      <td>126.000000</td>\n",
       "      <td>0.000000</td>\n",
       "      <td>0.000000</td>\n",
       "      <td>71.000000</td>\n",
       "      <td>0.000000</td>\n",
       "      <td>0.000000</td>\n",
       "      <td>0.000000</td>\n",
       "      <td>0.000000</td>\n",
       "      <td>0.000000</td>\n",
       "      <td>0.000000</td>\n",
       "    </tr>\n",
       "    <tr>\n",
       "      <th>25%</th>\n",
       "      <td>30629.000000</td>\n",
       "      <td>41.000000</td>\n",
       "      <td>0.000000</td>\n",
       "      <td>1.000000</td>\n",
       "      <td>121.000000</td>\n",
       "      <td>231.000000</td>\n",
       "      <td>0.000000</td>\n",
       "      <td>0.000000</td>\n",
       "      <td>103.000000</td>\n",
       "      <td>0.000000</td>\n",
       "      <td>1.600000</td>\n",
       "      <td>0.000000</td>\n",
       "      <td>1.000000</td>\n",
       "      <td>0.000000</td>\n",
       "      <td>1.000000</td>\n",
       "    </tr>\n",
       "    <tr>\n",
       "      <th>50%</th>\n",
       "      <td>50872.000000</td>\n",
       "      <td>53.000000</td>\n",
       "      <td>0.000000</td>\n",
       "      <td>2.000000</td>\n",
       "      <td>148.000000</td>\n",
       "      <td>344.000000</td>\n",
       "      <td>0.000000</td>\n",
       "      <td>1.000000</td>\n",
       "      <td>136.000000</td>\n",
       "      <td>1.000000</td>\n",
       "      <td>3.100000</td>\n",
       "      <td>1.000000</td>\n",
       "      <td>2.000000</td>\n",
       "      <td>1.000000</td>\n",
       "      <td>1.000000</td>\n",
       "    </tr>\n",
       "    <tr>\n",
       "      <th>75%</th>\n",
       "      <td>70511.000000</td>\n",
       "      <td>66.000000</td>\n",
       "      <td>1.000000</td>\n",
       "      <td>3.000000</td>\n",
       "      <td>175.000000</td>\n",
       "      <td>453.000000</td>\n",
       "      <td>1.000000</td>\n",
       "      <td>2.000000</td>\n",
       "      <td>169.000000</td>\n",
       "      <td>1.000000</td>\n",
       "      <td>4.700000</td>\n",
       "      <td>2.000000</td>\n",
       "      <td>3.000000</td>\n",
       "      <td>2.000000</td>\n",
       "      <td>1.000000</td>\n",
       "    </tr>\n",
       "    <tr>\n",
       "      <th>max</th>\n",
       "      <td>89991.000000</td>\n",
       "      <td>77.000000</td>\n",
       "      <td>1.000000</td>\n",
       "      <td>3.000000</td>\n",
       "      <td>200.000000</td>\n",
       "      <td>564.000000</td>\n",
       "      <td>1.000000</td>\n",
       "      <td>2.000000</td>\n",
       "      <td>202.000000</td>\n",
       "      <td>1.000000</td>\n",
       "      <td>6.200000</td>\n",
       "      <td>2.000000</td>\n",
       "      <td>4.000000</td>\n",
       "      <td>3.000000</td>\n",
       "      <td>1.000000</td>\n",
       "    </tr>\n",
       "  </tbody>\n",
       "</table>\n",
       "</div>"
      ],
      "text/plain": [
       "                 id          age          sex           cp     trestbps  \\\n",
       "count   7087.000000  7087.000000  7087.000000  7087.000000  7087.000000   \n",
       "mean   50520.455341    53.161987     0.498660     1.511923   147.749259   \n",
       "std    23091.461196    14.217069     0.500033     1.118239    31.019531   \n",
       "min    10019.000000    29.000000     0.000000     0.000000    94.000000   \n",
       "25%    30629.000000    41.000000     0.000000     1.000000   121.000000   \n",
       "50%    50872.000000    53.000000     0.000000     2.000000   148.000000   \n",
       "75%    70511.000000    66.000000     1.000000     3.000000   175.000000   \n",
       "max    89991.000000    77.000000     1.000000     3.000000   200.000000   \n",
       "\n",
       "              chol          fbs      restecg      thalach        exang  \\\n",
       "count  7087.000000  7087.000000  7087.000000  7087.000000  7087.000000   \n",
       "mean    343.852265     0.499365     1.011006   136.083251     0.500494   \n",
       "std     127.795534     0.500035     0.816595    38.022627     0.500035   \n",
       "min     126.000000     0.000000     0.000000    71.000000     0.000000   \n",
       "25%     231.000000     0.000000     0.000000   103.000000     0.000000   \n",
       "50%     344.000000     0.000000     1.000000   136.000000     1.000000   \n",
       "75%     453.000000     1.000000     2.000000   169.000000     1.000000   \n",
       "max     564.000000     1.000000     2.000000   202.000000     1.000000   \n",
       "\n",
       "           oldpeak        slope           ca         thal       target  \n",
       "count  7087.000000  7087.000000  7087.000000  7087.000000  7087.000000  \n",
       "mean      3.126556     0.995485     2.023705     1.496402     0.811486  \n",
       "std       1.784760     0.817175     1.411018     1.118296     0.391150  \n",
       "min       0.000000     0.000000     0.000000     0.000000     0.000000  \n",
       "25%       1.600000     0.000000     1.000000     0.000000     1.000000  \n",
       "50%       3.100000     1.000000     2.000000     1.000000     1.000000  \n",
       "75%       4.700000     2.000000     3.000000     2.000000     1.000000  \n",
       "max       6.200000     2.000000     4.000000     3.000000     1.000000  "
      ]
     },
     "execution_count": 13,
     "metadata": {},
     "output_type": "execute_result"
    }
   ],
   "source": [
    "df.describe()"
   ]
  },
  {
   "cell_type": "code",
   "execution_count": 14,
   "id": "49b72fc6-a378-44b4-b4ad-2a1138bf6c9d",
   "metadata": {},
   "outputs": [
    {
     "name": "stdout",
     "output_type": "stream",
     "text": [
      "age        -0.022097\n",
      "trestbps   -0.043581\n",
      "chol        0.007225\n",
      "thalach     0.004638\n",
      "dtype: float64\n"
     ]
    }
   ],
   "source": [
    "#skew distribution for column\n",
    "numerical_column = ['age','trestbps','chol','thalach']\n",
    "skewness = df[numerical_column].skew()\n",
    "print(skewness)"
   ]
  },
  {
   "cell_type": "code",
   "execution_count": 15,
   "id": "70edbfba-5133-4f0b-8076-3c10b09caca5",
   "metadata": {},
   "outputs": [
    {
     "name": "stderr",
     "output_type": "stream",
     "text": [
      "C:\\Users\\Rihannat\\anaconda3\\Lib\\site-packages\\seaborn\\_oldcore.py:1119: FutureWarning: use_inf_as_na option is deprecated and will be removed in a future version. Convert inf values to NaN before operating instead.\n",
      "  with pd.option_context('mode.use_inf_as_na', True):\n",
      "C:\\Users\\Rihannat\\anaconda3\\Lib\\site-packages\\seaborn\\_oldcore.py:1119: FutureWarning: use_inf_as_na option is deprecated and will be removed in a future version. Convert inf values to NaN before operating instead.\n",
      "  with pd.option_context('mode.use_inf_as_na', True):\n",
      "C:\\Users\\Rihannat\\anaconda3\\Lib\\site-packages\\seaborn\\_oldcore.py:1119: FutureWarning: use_inf_as_na option is deprecated and will be removed in a future version. Convert inf values to NaN before operating instead.\n",
      "  with pd.option_context('mode.use_inf_as_na', True):\n",
      "C:\\Users\\Rihannat\\anaconda3\\Lib\\site-packages\\seaborn\\_oldcore.py:1119: FutureWarning: use_inf_as_na option is deprecated and will be removed in a future version. Convert inf values to NaN before operating instead.\n",
      "  with pd.option_context('mode.use_inf_as_na', True):\n"
     ]
    },
    {
     "data": {
      "image/png": "[encoded data removed]",
      "text/plain": [
       "<Figure size 800x600 with 4 Axes>"
      ]
     },
     "metadata": {},
     "output_type": "display_data"
    }
   ],
   "source": [
    "#skew distribution visualization\n",
    "plt.figure(figsize= (8,6))\n",
    "for i, col in enumerate(numerical_column,1):\n",
    "    plt.subplot(2,2,i)\n",
    "    sns.histplot(df[col], kde = True,bins=30, color='blue')\n",
    "    plt.title(f'Distribution of {col}')\n",
    "    plt.xlabel(col)\n",
    "    plt.ylabel('Frequency')\n",
    "    plt.tight_layout()\n",
    "    plt.show"
   ]
  },
  {
   "cell_type": "code",
   "execution_count": 16,
   "id": "85dda2fd-9c75-4c95-a0f4-726b5c4b7910",
   "metadata": {},
   "outputs": [
    {
     "data": {
      "image/png": "[encoded data removed]",
      "text/plain": [
       "<Figure size 400x200 with 1 Axes>"
      ]
     },
     "metadata": {},
     "output_type": "display_data"
    },
    {
     "data": {
      "image/png": "[encoded data removed]",
      "text/plain": [
       "<Figure size 400x200 with 1 Axes>"
      ]
     },
     "metadata": {},
     "output_type": "display_data"
    },
    {
     "data": {
      "image/png": "[encoded data removed]",
      "text/plain": [
       "<Figure size 400x200 with 1 Axes>"
      ]
     },
     "metadata": {},
     "output_type": "display_data"
    },
    {
     "data": {
      "image/png": "[encoded data removed]",
      "text/plain": [
       "<Figure size 400x200 with 1 Axes>"
      ]
     },
     "metadata": {},
     "output_type": "display_data"
    }
   ],
   "source": [
    "#Checking for outliers using boxplot\n",
    "for col in ['age','trestbps','chol','thalach']:\n",
    "    plt.figure(figsize=(4,2))\n",
    "    plt.boxplot(df[col],vert=False,patch_artist=True,boxprops=dict(facecolor='blue',color='black'))\n",
    "    plt.title(f\"Boxplot of {col}\")\n",
    "    plt.show()"
   ]
  },
  {
   "cell_type": "code",
   "execution_count": 17,
   "id": "4a8a5d57-4d3e-48fc-8932-8438f1077284",
   "metadata": {},
   "outputs": [
    {
     "name": "stdout",
     "output_type": "stream",
     "text": [
      "age         0\n",
      "trestbps    0\n",
      "chol        0\n",
      "thalach     0\n",
      "dtype: int64\n"
     ]
    }
   ],
   "source": [
    "#Checking for outliers using z_scores method\n",
    "z_scores = df[['age','trestbps','chol','thalach']].apply(zscore)\n",
    "print((z_scores.abs() > 3).sum())"
   ]
  },
  {
   "cell_type": "code",
   "execution_count": 18,
   "id": "8cde8770-a599-4dc7-a942-7a0fea1fd61b",
   "metadata": {},
   "outputs": [
    {
     "data": {
      "text/html": [
       "<div>\n",
       "<style scoped>\n",
       "    .dataframe tbody tr th:only-of-type {\n",
       "        vertical-align: middle;\n",
       "    }\n",
       "\n",
       "    .dataframe tbody tr th {\n",
       "        vertical-align: top;\n",
       "    }\n",
       "\n",
       "    .dataframe thead th {\n",
       "        text-align: right;\n",
       "    }\n",
       "</style>\n",
       "<table border=\"1\" class=\"dataframe\">\n",
       "  <thead>\n",
       "    <tr style=\"text-align: right;\">\n",
       "      <th></th>\n",
       "      <th>id</th>\n",
       "      <th>age</th>\n",
       "      <th>sex</th>\n",
       "      <th>cp</th>\n",
       "      <th>trestbps</th>\n",
       "      <th>chol</th>\n",
       "      <th>fbs</th>\n",
       "      <th>restecg</th>\n",
       "      <th>thalach</th>\n",
       "      <th>exang</th>\n",
       "      <th>oldpeak</th>\n",
       "      <th>slope</th>\n",
       "      <th>ca</th>\n",
       "      <th>thal</th>\n",
       "      <th>target</th>\n",
       "    </tr>\n",
       "  </thead>\n",
       "  <tbody>\n",
       "    <tr>\n",
       "      <th>id</th>\n",
       "      <td>1.000000</td>\n",
       "      <td>-0.021279</td>\n",
       "      <td>0.002804</td>\n",
       "      <td>0.003040</td>\n",
       "      <td>0.007664</td>\n",
       "      <td>0.013666</td>\n",
       "      <td>0.019204</td>\n",
       "      <td>0.014709</td>\n",
       "      <td>-0.026461</td>\n",
       "      <td>0.003543</td>\n",
       "      <td>-0.016567</td>\n",
       "      <td>0.014747</td>\n",
       "      <td>0.020116</td>\n",
       "      <td>-0.008111</td>\n",
       "      <td>-0.020383</td>\n",
       "    </tr>\n",
       "    <tr>\n",
       "      <th>age</th>\n",
       "      <td>-0.021279</td>\n",
       "      <td>1.000000</td>\n",
       "      <td>-0.000327</td>\n",
       "      <td>-0.011697</td>\n",
       "      <td>-0.022024</td>\n",
       "      <td>0.002289</td>\n",
       "      <td>-0.000462</td>\n",
       "      <td>-0.010000</td>\n",
       "      <td>0.007868</td>\n",
       "      <td>-0.004398</td>\n",
       "      <td>-0.003299</td>\n",
       "      <td>0.010218</td>\n",
       "      <td>0.008799</td>\n",
       "      <td>0.007679</td>\n",
       "      <td>0.001990</td>\n",
       "    </tr>\n",
       "    <tr>\n",
       "      <th>sex</th>\n",
       "      <td>0.002804</td>\n",
       "      <td>-0.000327</td>\n",
       "      <td>1.000000</td>\n",
       "      <td>-0.010887</td>\n",
       "      <td>0.014904</td>\n",
       "      <td>0.006045</td>\n",
       "      <td>-0.010022</td>\n",
       "      <td>0.002801</td>\n",
       "      <td>0.003109</td>\n",
       "      <td>0.019898</td>\n",
       "      <td>-0.000830</td>\n",
       "      <td>-0.008994</td>\n",
       "      <td>-0.000755</td>\n",
       "      <td>-0.005372</td>\n",
       "      <td>0.021797</td>\n",
       "    </tr>\n",
       "    <tr>\n",
       "      <th>cp</th>\n",
       "      <td>0.003040</td>\n",
       "      <td>-0.011697</td>\n",
       "      <td>-0.010887</td>\n",
       "      <td>1.000000</td>\n",
       "      <td>0.014206</td>\n",
       "      <td>-0.003902</td>\n",
       "      <td>-0.016833</td>\n",
       "      <td>-0.001844</td>\n",
       "      <td>0.002954</td>\n",
       "      <td>0.002576</td>\n",
       "      <td>0.004268</td>\n",
       "      <td>-0.002721</td>\n",
       "      <td>-0.008139</td>\n",
       "      <td>-0.012746</td>\n",
       "      <td>-0.193608</td>\n",
       "    </tr>\n",
       "    <tr>\n",
       "      <th>trestbps</th>\n",
       "      <td>0.007664</td>\n",
       "      <td>-0.022024</td>\n",
       "      <td>0.014904</td>\n",
       "      <td>0.014206</td>\n",
       "      <td>1.000000</td>\n",
       "      <td>-0.014301</td>\n",
       "      <td>0.009375</td>\n",
       "      <td>0.005268</td>\n",
       "      <td>-0.005648</td>\n",
       "      <td>0.006591</td>\n",
       "      <td>0.014140</td>\n",
       "      <td>-0.003736</td>\n",
       "      <td>0.000349</td>\n",
       "      <td>0.006058</td>\n",
       "      <td>0.012341</td>\n",
       "    </tr>\n",
       "    <tr>\n",
       "      <th>chol</th>\n",
       "      <td>0.013666</td>\n",
       "      <td>0.002289</td>\n",
       "      <td>0.006045</td>\n",
       "      <td>-0.003902</td>\n",
       "      <td>-0.014301</td>\n",
       "      <td>1.000000</td>\n",
       "      <td>0.018502</td>\n",
       "      <td>0.001352</td>\n",
       "      <td>-0.012085</td>\n",
       "      <td>0.001228</td>\n",
       "      <td>-0.013285</td>\n",
       "      <td>-0.015671</td>\n",
       "      <td>0.003871</td>\n",
       "      <td>0.014858</td>\n",
       "      <td>-0.000876</td>\n",
       "    </tr>\n",
       "    <tr>\n",
       "      <th>fbs</th>\n",
       "      <td>0.019204</td>\n",
       "      <td>-0.000462</td>\n",
       "      <td>-0.010022</td>\n",
       "      <td>-0.016833</td>\n",
       "      <td>0.009375</td>\n",
       "      <td>0.018502</td>\n",
       "      <td>1.000000</td>\n",
       "      <td>0.001400</td>\n",
       "      <td>0.013942</td>\n",
       "      <td>0.005504</td>\n",
       "      <td>0.011563</td>\n",
       "      <td>0.008627</td>\n",
       "      <td>-0.003779</td>\n",
       "      <td>-0.002717</td>\n",
       "      <td>0.005160</td>\n",
       "    </tr>\n",
       "    <tr>\n",
       "      <th>restecg</th>\n",
       "      <td>0.014709</td>\n",
       "      <td>-0.010000</td>\n",
       "      <td>0.002801</td>\n",
       "      <td>-0.001844</td>\n",
       "      <td>0.005268</td>\n",
       "      <td>0.001352</td>\n",
       "      <td>0.001400</td>\n",
       "      <td>1.000000</td>\n",
       "      <td>-0.021578</td>\n",
       "      <td>-0.002087</td>\n",
       "      <td>0.001542</td>\n",
       "      <td>0.011706</td>\n",
       "      <td>0.014716</td>\n",
       "      <td>-0.004902</td>\n",
       "      <td>0.004288</td>\n",
       "    </tr>\n",
       "    <tr>\n",
       "      <th>thalach</th>\n",
       "      <td>-0.026461</td>\n",
       "      <td>0.007868</td>\n",
       "      <td>0.003109</td>\n",
       "      <td>0.002954</td>\n",
       "      <td>-0.005648</td>\n",
       "      <td>-0.012085</td>\n",
       "      <td>0.013942</td>\n",
       "      <td>-0.021578</td>\n",
       "      <td>1.000000</td>\n",
       "      <td>0.021033</td>\n",
       "      <td>-0.003179</td>\n",
       "      <td>-0.012914</td>\n",
       "      <td>0.013652</td>\n",
       "      <td>0.001378</td>\n",
       "      <td>0.006426</td>\n",
       "    </tr>\n",
       "    <tr>\n",
       "      <th>exang</th>\n",
       "      <td>0.003543</td>\n",
       "      <td>-0.004398</td>\n",
       "      <td>0.019898</td>\n",
       "      <td>0.002576</td>\n",
       "      <td>0.006591</td>\n",
       "      <td>0.001228</td>\n",
       "      <td>0.005504</td>\n",
       "      <td>-0.002087</td>\n",
       "      <td>0.021033</td>\n",
       "      <td>1.000000</td>\n",
       "      <td>0.014929</td>\n",
       "      <td>-0.000340</td>\n",
       "      <td>0.005784</td>\n",
       "      <td>0.018994</td>\n",
       "      <td>0.482459</td>\n",
       "    </tr>\n",
       "    <tr>\n",
       "      <th>oldpeak</th>\n",
       "      <td>-0.016567</td>\n",
       "      <td>-0.003299</td>\n",
       "      <td>-0.000830</td>\n",
       "      <td>0.004268</td>\n",
       "      <td>0.014140</td>\n",
       "      <td>-0.013285</td>\n",
       "      <td>0.011563</td>\n",
       "      <td>0.001542</td>\n",
       "      <td>-0.003179</td>\n",
       "      <td>0.014929</td>\n",
       "      <td>1.000000</td>\n",
       "      <td>-0.002018</td>\n",
       "      <td>0.008867</td>\n",
       "      <td>0.007274</td>\n",
       "      <td>0.004746</td>\n",
       "    </tr>\n",
       "    <tr>\n",
       "      <th>slope</th>\n",
       "      <td>0.014747</td>\n",
       "      <td>0.010218</td>\n",
       "      <td>-0.008994</td>\n",
       "      <td>-0.002721</td>\n",
       "      <td>-0.003736</td>\n",
       "      <td>-0.015671</td>\n",
       "      <td>0.008627</td>\n",
       "      <td>0.011706</td>\n",
       "      <td>-0.012914</td>\n",
       "      <td>-0.000340</td>\n",
       "      <td>-0.002018</td>\n",
       "      <td>1.000000</td>\n",
       "      <td>-0.013982</td>\n",
       "      <td>-0.001716</td>\n",
       "      <td>0.011465</td>\n",
       "    </tr>\n",
       "    <tr>\n",
       "      <th>ca</th>\n",
       "      <td>0.020116</td>\n",
       "      <td>0.008799</td>\n",
       "      <td>-0.000755</td>\n",
       "      <td>-0.008139</td>\n",
       "      <td>0.000349</td>\n",
       "      <td>0.003871</td>\n",
       "      <td>-0.003779</td>\n",
       "      <td>0.014716</td>\n",
       "      <td>0.013652</td>\n",
       "      <td>0.005784</td>\n",
       "      <td>0.008867</td>\n",
       "      <td>-0.013982</td>\n",
       "      <td>1.000000</td>\n",
       "      <td>-0.013808</td>\n",
       "      <td>0.002728</td>\n",
       "    </tr>\n",
       "    <tr>\n",
       "      <th>thal</th>\n",
       "      <td>-0.008111</td>\n",
       "      <td>0.007679</td>\n",
       "      <td>-0.005372</td>\n",
       "      <td>-0.012746</td>\n",
       "      <td>0.006058</td>\n",
       "      <td>0.014858</td>\n",
       "      <td>-0.002717</td>\n",
       "      <td>-0.004902</td>\n",
       "      <td>0.001378</td>\n",
       "      <td>0.018994</td>\n",
       "      <td>0.007274</td>\n",
       "      <td>-0.001716</td>\n",
       "      <td>-0.013808</td>\n",
       "      <td>1.000000</td>\n",
       "      <td>0.008450</td>\n",
       "    </tr>\n",
       "    <tr>\n",
       "      <th>target</th>\n",
       "      <td>-0.020383</td>\n",
       "      <td>0.001990</td>\n",
       "      <td>0.021797</td>\n",
       "      <td>-0.193608</td>\n",
       "      <td>0.012341</td>\n",
       "      <td>-0.000876</td>\n",
       "      <td>0.005160</td>\n",
       "      <td>0.004288</td>\n",
       "      <td>0.006426</td>\n",
       "      <td>0.482459</td>\n",
       "      <td>0.004746</td>\n",
       "      <td>0.011465</td>\n",
       "      <td>0.002728</td>\n",
       "      <td>0.008450</td>\n",
       "      <td>1.000000</td>\n",
       "    </tr>\n",
       "  </tbody>\n",
       "</table>\n",
       "</div>"
      ],
      "text/plain": [
       "                id       age       sex        cp  trestbps      chol  \\\n",
       "id        1.000000 -0.021279  0.002804  0.003040  0.007664  0.013666   \n",
       "age      -0.021279  1.000000 -0.000327 -0.011697 -0.022024  0.002289   \n",
       "sex       0.002804 -0.000327  1.000000 -0.010887  0.014904  0.006045   \n",
       "cp        0.003040 -0.011697 -0.010887  1.000000  0.014206 -0.003902   \n",
       "trestbps  0.007664 -0.022024  0.014904  0.014206  1.000000 -0.014301   \n",
       "chol      0.013666  0.002289  0.006045 -0.003902 -0.014301  1.000000   \n",
       "fbs       0.019204 -0.000462 -0.010022 -0.016833  0.009375  0.018502   \n",
       "restecg   0.014709 -0.010000  0.002801 -0.001844  0.005268  0.001352   \n",
       "thalach  -0.026461  0.007868  0.003109  0.002954 -0.005648 -0.012085   \n",
       "exang     0.003543 -0.004398  0.019898  0.002576  0.006591  0.001228   \n",
       "oldpeak  -0.016567 -0.003299 -0.000830  0.004268  0.014140 -0.013285   \n",
       "slope     0.014747  0.010218 -0.008994 -0.002721 -0.003736 -0.015671   \n",
       "ca        0.020116  0.008799 -0.000755 -0.008139  0.000349  0.003871   \n",
       "thal     -0.008111  0.007679 -0.005372 -0.012746  0.006058  0.014858   \n",
       "target   -0.020383  0.001990  0.021797 -0.193608  0.012341 -0.000876   \n",
       "\n",
       "               fbs   restecg   thalach     exang   oldpeak     slope  \\\n",
       "id        0.019204  0.014709 -0.026461  0.003543 -0.016567  0.014747   \n",
       "age      -0.000462 -0.010000  0.007868 -0.004398 -0.003299  0.010218   \n",
       "sex      -0.010022  0.002801  0.003109  0.019898 -0.000830 -0.008994   \n",
       "cp       -0.016833 -0.001844  0.002954  0.002576  0.004268 -0.002721   \n",
       "trestbps  0.009375  0.005268 -0.005648  0.006591  0.014140 -0.003736   \n",
       "chol      0.018502  0.001352 -0.012085  0.001228 -0.013285 -0.015671   \n",
       "fbs       1.000000  0.001400  0.013942  0.005504  0.011563  0.008627   \n",
       "restecg   0.001400  1.000000 -0.021578 -0.002087  0.001542  0.011706   \n",
       "thalach   0.013942 -0.021578  1.000000  0.021033 -0.003179 -0.012914   \n",
       "exang     0.005504 -0.002087  0.021033  1.000000  0.014929 -0.000340   \n",
       "oldpeak   0.011563  0.001542 -0.003179  0.014929  1.000000 -0.002018   \n",
       "slope     0.008627  0.011706 -0.012914 -0.000340 -0.002018  1.000000   \n",
       "ca       -0.003779  0.014716  0.013652  0.005784  0.008867 -0.013982   \n",
       "thal     -0.002717 -0.004902  0.001378  0.018994  0.007274 -0.001716   \n",
       "target    0.005160  0.004288  0.006426  0.482459  0.004746  0.011465   \n",
       "\n",
       "                ca      thal    target  \n",
       "id        0.020116 -0.008111 -0.020383  \n",
       "age       0.008799  0.007679  0.001990  \n",
       "sex      -0.000755 -0.005372  0.021797  \n",
       "cp       -0.008139 -0.012746 -0.193608  \n",
       "trestbps  0.000349  0.006058  0.012341  \n",
       "chol      0.003871  0.014858 -0.000876  \n",
       "fbs      -0.003779 -0.002717  0.005160  \n",
       "restecg   0.014716 -0.004902  0.004288  \n",
       "thalach   0.013652  0.001378  0.006426  \n",
       "exang     0.005784  0.018994  0.482459  \n",
       "oldpeak   0.008867  0.007274  0.004746  \n",
       "slope    -0.013982 -0.001716  0.011465  \n",
       "ca        1.000000 -0.013808  0.002728  \n",
       "thal     -0.013808  1.000000  0.008450  \n",
       "target    0.002728  0.008450  1.000000  "
      ]
     },
     "execution_count": 18,
     "metadata": {},
     "output_type": "execute_result"
    }
   ],
   "source": [
    "#correlation\n",
    "correlation = df.corr()\n",
    "correlation"
   ]
  },
  {
   "cell_type": "code",
   "execution_count": 19,
   "id": "5e7f51a3-6cc0-413d-8a4a-cfff4f4c1960",
   "metadata": {},
   "outputs": [
    {
     "data": {
      "image/png": "[encoded data removed]",
      "text/plain": [
       "<Figure size 600x400 with 2 Axes>"
      ]
     },
     "metadata": {},
     "output_type": "display_data"
    }
   ],
   "source": [
    "#correlation visulization\n",
    "plt.figure(figsize=(6, 4))\n",
    "sns.heatmap(correlation, annot=True, cmap='coolwarm', vmin=-1, vmax=1)\n",
    "plt.title(\"Correlation Heatmap\")\n",
    "plt.show()"
   ]
  },
  {
   "cell_type": "code",
   "execution_count": 20,
   "id": "48f3cf2e-f898-4f01-b797-7031e02e1107",
   "metadata": {},
   "outputs": [],
   "source": [
    "#droping target column for train data\n",
    "X_train = df.drop('target',axis=1)\n",
    "Y_train = df['target']"
   ]
  },
  {
   "cell_type": "code",
   "execution_count": 18,
   "id": "eeccb645-481e-4bf6-b490-44aa4b879623",
   "metadata": {},
   "outputs": [
    {
     "data": {
      "text/plain": [
       "(7087, 14)"
      ]
     },
     "execution_count": 18,
     "metadata": {},
     "output_type": "execute_result"
    }
   ],
   "source": [
    "X_train.shape"
   ]
  },
  {
   "cell_type": "code",
   "execution_count": 21,
   "id": "2a68f970-d122-44aa-b846-5c10a41cf0d0",
   "metadata": {},
   "outputs": [
    {
     "data": {
      "text/plain": [
       "(7087,)"
      ]
     },
     "execution_count": 21,
     "metadata": {},
     "output_type": "execute_result"
    }
   ],
   "source": [
    "Y_train.shape"
   ]
  },
  {
   "cell_type": "code",
   "execution_count": 23,
   "id": "3ede3e33-0afb-4676-bc5c-17b6a32e7f3b",
   "metadata": {},
   "outputs": [
    {
     "data": {
      "text/plain": [
       "<bound method NDFrame.head of             id       age       sex        cp  trestbps      chol       fbs  \\\n",
       "0    -0.848835 -0.292766  1.002685  0.436500 -1.378237 -0.969212  1.001271   \n",
       "1     0.979113 -1.699625  1.002685 -1.352153  0.394964 -1.282234 -0.998731   \n",
       "2    -0.224881 -0.503795  1.002685  0.436500 -1.055837 -1.665686  1.001271   \n",
       "3     0.729825 -0.855510  1.002685  0.436500  0.427204  0.861967  1.001271   \n",
       "4    -0.384518  0.269977  1.002685  1.330827 -0.604477 -0.523156 -0.998731   \n",
       "...        ...       ...       ...       ...       ...       ...       ...   \n",
       "7082  1.002456  0.199634 -0.997323 -0.457827  0.975285  0.173318 -0.998731   \n",
       "7083  0.432985 -0.785167 -0.997323  0.436500  0.459444 -0.155355 -0.998731   \n",
       "7084 -0.819774  0.129291 -0.997323 -1.352153  1.458885 -0.546633 -0.998731   \n",
       "7085 -1.360359 -1.699625  1.002685 -0.457827  0.169284 -0.570109  1.001271   \n",
       "7086 -0.228085  0.199634 -0.997323  0.436500  0.975285 -1.446571  1.001271   \n",
       "\n",
       "       restecg   thalach     exang   oldpeak     slope        ca      thal  \n",
       "0    -0.013479  1.549627  0.999013 -1.191592  0.005526 -0.016801  1.344638  \n",
       "1     1.211204  1.628533 -1.000988  1.610103  1.229340 -0.725560 -1.338203  \n",
       "2     1.211204 -0.291512  0.999013 -0.463151 -1.218288 -1.434318 -1.338203  \n",
       "3     1.211204  0.602756  0.999013  0.209255  1.229340  1.400715 -1.338203  \n",
       "4    -0.013479 -1.475101 -1.000988  1.385967 -1.218288 -0.016801 -1.338203  \n",
       "...        ...       ...       ...       ...       ...       ...       ...  \n",
       "7082 -1.238162 -0.081096 -1.000988 -0.519185 -1.218288 -0.016801 -1.338203  \n",
       "7083 -1.238162 -0.449323 -1.000988 -0.295050  1.229340 -0.016801  0.450358  \n",
       "7084  1.211204 -0.370417  0.999013 -1.023490 -1.218288 -1.434318 -0.443922  \n",
       "7085 -1.238162  0.655360 -1.000988  0.825628  1.229340 -0.016801  0.450358  \n",
       "7086  1.211204  0.786870 -1.000988 -0.014880  0.005526 -0.016801  1.344638  \n",
       "\n",
       "[7087 rows x 14 columns]>"
      ]
     },
     "execution_count": 23,
     "metadata": {},
     "output_type": "execute_result"
    }
   ],
   "source": [
    "#scaling train data\n",
    "scaler = StandardScaler()\n",
    "x_train_scaled = scaler.fit_transform(X_train)\n",
    "x_train_scaled = pd.DataFrame(x_train_scaled, columns=X_train.columns)\n",
    "x_train_scaled.head"
   ]
  },
  {
   "cell_type": "code",
   "execution_count": 24,
   "id": "99f16f88-603a-49e7-ad83-9251c481e93e",
   "metadata": {},
   "outputs": [
    {
     "data": {
      "text/plain": [
       "(7087, 14)"
      ]
     },
     "execution_count": 24,
     "metadata": {},
     "output_type": "execute_result"
    }
   ],
   "source": [
    "X_train.shape"
   ]
  },
  {
   "cell_type": "code",
   "execution_count": 25,
   "id": "2b289fcb-ee7a-48a2-96e8-d7929e9a61dd",
   "metadata": {},
   "outputs": [
    {
     "data": {
      "text/plain": [
       "(7087, 14)"
      ]
     },
     "execution_count": 25,
     "metadata": {},
     "output_type": "execute_result"
    }
   ],
   "source": [
    "x_train_scaled.shape"
   ]
  },
  {
   "cell_type": "code",
   "execution_count": 26,
   "id": "d014410a-2f76-445a-93d1-45d7cbacbeab",
   "metadata": {},
   "outputs": [
    {
     "data": {
      "text/plain": [
       "((5669, 14), (1418, 14), (5669,), (1418,))"
      ]
     },
     "execution_count": 26,
     "metadata": {},
     "output_type": "execute_result"
    }
   ],
   "source": [
    "# Split the data into training and valable sets\n",
    "#splitting data into training and valable set\n",
    "x_train, x_val, y_train, y_val = train_test_split(x_train_scaled, Y_train, test_size=0.2, random_state=42)\n",
    "x_train.shape, x_val.shape, y_train.shape, y_val.shape"
   ]
  },
  {
   "cell_type": "code",
   "execution_count": 27,
   "id": "c0a5c9ea-a9ea-49a4-ade0-bd25dc5158c4",
   "metadata": {},
   "outputs": [
    {
     "data": {
      "text/html": [
       "<style>#sk-container-id-1 {color: black;background-color: white;}#sk-container-id-1 pre{padding: 0;}#sk-container-id-1 div.sk-toggleable {background-color: white;}#sk-container-id-1 label.sk-toggleable__label {cursor: pointer;display: block;width: 100%;margin-bottom: 0;padding: 0.3em;box-sizing: border-box;text-align: center;}#sk-container-id-1 label.sk-toggleable__label-arrow:before {content: \"▸\";float: left;margin-right: 0.25em;color: #696969;}#sk-container-id-1 label.sk-toggleable__label-arrow:hover:before {color: black;}#sk-container-id-1 div.sk-estimator:hover label.sk-toggleable__label-arrow:before {color: black;}#sk-container-id-1 div.sk-toggleable__content {max-height: 0;max-width: 0;overflow: hidden;text-align: left;background-color: #f0f8ff;}#sk-container-id-1 div.sk-toggleable__content pre {margin: 0.2em;color: black;border-radius: 0.25em;background-color: #f0f8ff;}#sk-container-id-1 input.sk-toggleable__control:checked~div.sk-toggleable__content {max-height: 200px;max-width: 100%;overflow: auto;}#sk-container-id-1 input.sk-toggleable__control:checked~label.sk-toggleable__label-arrow:before {content: \"▾\";}#sk-container-id-1 div.sk-estimator input.sk-toggleable__control:checked~label.sk-toggleable__label {background-color: #d4ebff;}#sk-container-id-1 div.sk-label input.sk-toggleable__control:checked~label.sk-toggleable__label {background-color: #d4ebff;}#sk-container-id-1 input.sk-hidden--visually {border: 0;clip: rect(1px 1px 1px 1px);clip: rect(1px, 1px, 1px, 1px);height: 1px;margin: -1px;overflow: hidden;padding: 0;position: absolute;width: 1px;}#sk-container-id-1 div.sk-estimator {font-family: monospace;background-color: #f0f8ff;border: 1px dotted black;border-radius: 0.25em;box-sizing: border-box;margin-bottom: 0.5em;}#sk-container-id-1 div.sk-estimator:hover {background-color: #d4ebff;}#sk-container-id-1 div.sk-parallel-item::after {content: \"\";width: 100%;border-bottom: 1px solid gray;flex-grow: 1;}#sk-container-id-1 div.sk-label:hover label.sk-toggleable__label {background-color: #d4ebff;}#sk-container-id-1 div.sk-serial::before {content: \"\";position: absolute;border-left: 1px solid gray;box-sizing: border-box;top: 0;bottom: 0;left: 50%;z-index: 0;}#sk-container-id-1 div.sk-serial {display: flex;flex-direction: column;align-items: center;background-color: white;padding-right: 0.2em;padding-left: 0.2em;position: relative;}#sk-container-id-1 div.sk-item {position: relative;z-index: 1;}#sk-container-id-1 div.sk-parallel {display: flex;align-items: stretch;justify-content: center;background-color: white;position: relative;}#sk-container-id-1 div.sk-item::before, #sk-container-id-1 div.sk-parallel-item::before {content: \"\";position: absolute;border-left: 1px solid gray;box-sizing: border-box;top: 0;bottom: 0;left: 50%;z-index: -1;}#sk-container-id-1 div.sk-parallel-item {display: flex;flex-direction: column;z-index: 1;position: relative;background-color: white;}#sk-container-id-1 div.sk-parallel-item:first-child::after {align-self: flex-end;width: 50%;}#sk-container-id-1 div.sk-parallel-item:last-child::after {align-self: flex-start;width: 50%;}#sk-container-id-1 div.sk-parallel-item:only-child::after {width: 0;}#sk-container-id-1 div.sk-dashed-wrapped {border: 1px dashed gray;margin: 0 0.4em 0.5em 0.4em;box-sizing: border-box;padding-bottom: 0.4em;background-color: white;}#sk-container-id-1 div.sk-label label {font-family: monospace;font-weight: bold;display: inline-block;line-height: 1.2em;}#sk-container-id-1 div.sk-label-container {text-align: center;}#sk-container-id-1 div.sk-container {/* jupyter's `normalize.less` sets `[hidden] { display: none; }` but bootstrap.min.css set `[hidden] { display: none !important; }` so we also need the `!important` here to be able to override the default hidden behavior on the sphinx rendered scikit-learn.org. See: https://github.com/scikit-learn/scikit-learn/issues/21755 */display: inline-block !important;position: relative;}#sk-container-id-1 div.sk-text-repr-fallback {display: none;}</style><div id=\"sk-container-id-1\" class=\"sk-top-container\"><div class=\"sk-text-repr-fallback\"><pre>LogisticRegression()</pre><b>In a Jupyter environment, please rerun this cell to show the HTML representation or trust the notebook. <br />On GitHub, the HTML representation is unable to render, please try loading this page with nbviewer.org.</b></div><div class=\"sk-container\" hidden><div class=\"sk-item\"><div class=\"sk-estimator sk-toggleable\"><input class=\"sk-toggleable__control sk-hidden--visually\" id=\"sk-estimator-id-1\" type=\"checkbox\" checked><label for=\"sk-estimator-id-1\" class=\"sk-toggleable__label sk-toggleable__label-arrow\">LogisticRegression</label><div class=\"sk-toggleable__content\"><pre>LogisticRegression()</pre></div></div></div></div></div>"
      ],
      "text/plain": [
       "LogisticRegression()"
      ]
     },
     "execution_count": 27,
     "metadata": {},
     "output_type": "execute_result"
    }
   ],
   "source": [
    "#create and train logistic model\n",
    "#logic  = make_classification(n_samples = 1000,n_features = 10,n_informative = 5)\n",
    "model = LogisticRegression()\n",
    "model.fit(x_train,y_train)"
   ]
  },
  {
   "cell_type": "code",
   "execution_count": 28,
   "id": "ef6bd290-06e0-4517-903e-52dd17d74ed6",
   "metadata": {},
   "outputs": [
    {
     "name": "stdout",
     "output_type": "stream",
     "text": [
      "[1 1 1 ... 1 1 1]\n"
     ]
    }
   ],
   "source": [
    "#predicting val data using logistic model\n",
    "predict = model.predict(x_val)\n",
    "print(predict)"
   ]
  },
  {
   "cell_type": "code",
   "execution_count": 30,
   "id": "59858324-57e2-4c4f-956c-fe0975804e93",
   "metadata": {},
   "outputs": [
    {
     "name": "stdout",
     "output_type": "stream",
     "text": [
      "Accuracy: 0.8159379407616361\n",
      "Classification Report:\n",
      "              precision    recall  f1-score   support\n",
      "\n",
      "           0       0.47      0.34      0.39       251\n",
      "           1       0.87      0.92      0.89      1167\n",
      "\n",
      "    accuracy                           0.82      1418\n",
      "   macro avg       0.67      0.63      0.64      1418\n",
      "weighted avg       0.80      0.82      0.80      1418\n",
      "\n"
     ]
    }
   ],
   "source": [
    "#checking for accuracy\n",
    "accuracy = accuracy_score(y_val, predict)\n",
    "print(\"Accuracy:\",accuracy_score(y_val,predict))\n",
    "print(\"Classification Report:\")\n",
    "print(classification_report(y_val,predict))"
   ]
  },
  {
   "cell_type": "code",
   "execution_count": 31,
   "id": "a8577701-01bc-4220-842c-d33dddecb1be",
   "metadata": {},
   "outputs": [
    {
     "data": {
      "text/html": [
       "<style>#sk-container-id-2 {color: black;background-color: white;}#sk-container-id-2 pre{padding: 0;}#sk-container-id-2 div.sk-toggleable {background-color: white;}#sk-container-id-2 label.sk-toggleable__label {cursor: pointer;display: block;width: 100%;margin-bottom: 0;padding: 0.3em;box-sizing: border-box;text-align: center;}#sk-container-id-2 label.sk-toggleable__label-arrow:before {content: \"▸\";float: left;margin-right: 0.25em;color: #696969;}#sk-container-id-2 label.sk-toggleable__label-arrow:hover:before {color: black;}#sk-container-id-2 div.sk-estimator:hover label.sk-toggleable__label-arrow:before {color: black;}#sk-container-id-2 div.sk-toggleable__content {max-height: 0;max-width: 0;overflow: hidden;text-align: left;background-color: #f0f8ff;}#sk-container-id-2 div.sk-toggleable__content pre {margin: 0.2em;color: black;border-radius: 0.25em;background-color: #f0f8ff;}#sk-container-id-2 input.sk-toggleable__control:checked~div.sk-toggleable__content {max-height: 200px;max-width: 100%;overflow: auto;}#sk-container-id-2 input.sk-toggleable__control:checked~label.sk-toggleable__label-arrow:before {content: \"▾\";}#sk-container-id-2 div.sk-estimator input.sk-toggleable__control:checked~label.sk-toggleable__label {background-color: #d4ebff;}#sk-container-id-2 div.sk-label input.sk-toggleable__control:checked~label.sk-toggleable__label {background-color: #d4ebff;}#sk-container-id-2 input.sk-hidden--visually {border: 0;clip: rect(1px 1px 1px 1px);clip: rect(1px, 1px, 1px, 1px);height: 1px;margin: -1px;overflow: hidden;padding: 0;position: absolute;width: 1px;}#sk-container-id-2 div.sk-estimator {font-family: monospace;background-color: #f0f8ff;border: 1px dotted black;border-radius: 0.25em;box-sizing: border-box;margin-bottom: 0.5em;}#sk-container-id-2 div.sk-estimator:hover {background-color: #d4ebff;}#sk-container-id-2 div.sk-parallel-item::after {content: \"\";width: 100%;border-bottom: 1px solid gray;flex-grow: 1;}#sk-container-id-2 div.sk-label:hover label.sk-toggleable__label {background-color: #d4ebff;}#sk-container-id-2 div.sk-serial::before {content: \"\";position: absolute;border-left: 1px solid gray;box-sizing: border-box;top: 0;bottom: 0;left: 50%;z-index: 0;}#sk-container-id-2 div.sk-serial {display: flex;flex-direction: column;align-items: center;background-color: white;padding-right: 0.2em;padding-left: 0.2em;position: relative;}#sk-container-id-2 div.sk-item {position: relative;z-index: 1;}#sk-container-id-2 div.sk-parallel {display: flex;align-items: stretch;justify-content: center;background-color: white;position: relative;}#sk-container-id-2 div.sk-item::before, #sk-container-id-2 div.sk-parallel-item::before {content: \"\";position: absolute;border-left: 1px solid gray;box-sizing: border-box;top: 0;bottom: 0;left: 50%;z-index: -1;}#sk-container-id-2 div.sk-parallel-item {display: flex;flex-direction: column;z-index: 1;position: relative;background-color: white;}#sk-container-id-2 div.sk-parallel-item:first-child::after {align-self: flex-end;width: 50%;}#sk-container-id-2 div.sk-parallel-item:last-child::after {align-self: flex-start;width: 50%;}#sk-container-id-2 div.sk-parallel-item:only-child::after {width: 0;}#sk-container-id-2 div.sk-dashed-wrapped {border: 1px dashed gray;margin: 0 0.4em 0.5em 0.4em;box-sizing: border-box;padding-bottom: 0.4em;background-color: white;}#sk-container-id-2 div.sk-label label {font-family: monospace;font-weight: bold;display: inline-block;line-height: 1.2em;}#sk-container-id-2 div.sk-label-container {text-align: center;}#sk-container-id-2 div.sk-container {/* jupyter's `normalize.less` sets `[hidden] { display: none; }` but bootstrap.min.css set `[hidden] { display: none !important; }` so we also need the `!important` here to be able to override the default hidden behavior on the sphinx rendered scikit-learn.org. See: https://github.com/scikit-learn/scikit-learn/issues/21755 */display: inline-block !important;position: relative;}#sk-container-id-2 div.sk-text-repr-fallback {display: none;}</style><div id=\"sk-container-id-2\" class=\"sk-top-container\"><div class=\"sk-text-repr-fallback\"><pre>RandomForestRegressor(max_depth=10, n_estimators=700, random_state=42)</pre><b>In a Jupyter environment, please rerun this cell to show the HTML representation or trust the notebook. <br />On GitHub, the HTML representation is unable to render, please try loading this page with nbviewer.org.</b></div><div class=\"sk-container\" hidden><div class=\"sk-item\"><div class=\"sk-estimator sk-toggleable\"><input class=\"sk-toggleable__control sk-hidden--visually\" id=\"sk-estimator-id-2\" type=\"checkbox\" checked><label for=\"sk-estimator-id-2\" class=\"sk-toggleable__label sk-toggleable__label-arrow\">RandomForestRegressor</label><div class=\"sk-toggleable__content\"><pre>RandomForestRegressor(max_depth=10, n_estimators=700, random_state=42)</pre></div></div></div></div></div>"
      ],
      "text/plain": [
       "RandomForestRegressor(max_depth=10, n_estimators=700, random_state=42)"
      ]
     },
     "execution_count": 31,
     "metadata": {},
     "output_type": "execute_result"
    }
   ],
   "source": [
    "#create and train randomforestregressor model\n",
    "rf_model = RandomForestRegressor(random_state= 42, n_estimators=700, max_depth= 10)\n",
    "rf_model.fit(x_train, y_train)"
   ]
  },
  {
   "cell_type": "code",
   "execution_count": 32,
   "id": "d9755065-448e-4753-9c09-4ba902605833",
   "metadata": {},
   "outputs": [
    {
     "name": "stdout",
     "output_type": "stream",
     "text": [
      "[1.         0.42078922 1.         ... 1.         1.         1.        ]\n"
     ]
    }
   ],
   "source": [
    "#predicting val data using randomforestregressor model\n",
    "rf_pred = rf_model.predict(x_val)\n",
    "print(rf_pred)"
   ]
  },
  {
   "cell_type": "code",
   "execution_count": 33,
   "id": "2b701e02-fd23-4ac3-9e61-c6f0d2bb1e8b",
   "metadata": {},
   "outputs": [
    {
     "data": {
      "text/plain": [
       "0.3045103058683035"
      ]
     },
     "execution_count": 33,
     "metadata": {},
     "output_type": "execute_result"
    }
   ],
   "source": [
    "#checking for accuracy\n",
    "mean_val = np.sqrt(mean_squared_error(rf_pred, y_val))\n",
    "mean_val"
   ]
  },
  {
   "cell_type": "code",
   "execution_count": 34,
   "id": "4b98de2a-381b-420e-9aab-076a75d31119",
   "metadata": {},
   "outputs": [
    {
     "data": {
      "text/plain": [
       "0.36348026222815766"
      ]
     },
     "execution_count": 34,
     "metadata": {},
     "output_type": "execute_result"
    }
   ],
   "source": [
    "#checking for accuracy\n",
    "r2_score(y_val, rf_pred)"
   ]
  },
  {
   "cell_type": "code",
   "execution_count": 35,
   "id": "9374b2be-7e18-4c1e-8a8c-422d3f10ae1e",
   "metadata": {},
   "outputs": [
    {
     "data": {
      "text/html": [
       "<style>#sk-container-id-3 {color: black;background-color: white;}#sk-container-id-3 pre{padding: 0;}#sk-container-id-3 div.sk-toggleable {background-color: white;}#sk-container-id-3 label.sk-toggleable__label {cursor: pointer;display: block;width: 100%;margin-bottom: 0;padding: 0.3em;box-sizing: border-box;text-align: center;}#sk-container-id-3 label.sk-toggleable__label-arrow:before {content: \"▸\";float: left;margin-right: 0.25em;color: #696969;}#sk-container-id-3 label.sk-toggleable__label-arrow:hover:before {color: black;}#sk-container-id-3 div.sk-estimator:hover label.sk-toggleable__label-arrow:before {color: black;}#sk-container-id-3 div.sk-toggleable__content {max-height: 0;max-width: 0;overflow: hidden;text-align: left;background-color: #f0f8ff;}#sk-container-id-3 div.sk-toggleable__content pre {margin: 0.2em;color: black;border-radius: 0.25em;background-color: #f0f8ff;}#sk-container-id-3 input.sk-toggleable__control:checked~div.sk-toggleable__content {max-height: 200px;max-width: 100%;overflow: auto;}#sk-container-id-3 input.sk-toggleable__control:checked~label.sk-toggleable__label-arrow:before {content: \"▾\";}#sk-container-id-3 div.sk-estimator input.sk-toggleable__control:checked~label.sk-toggleable__label {background-color: #d4ebff;}#sk-container-id-3 div.sk-label input.sk-toggleable__control:checked~label.sk-toggleable__label {background-color: #d4ebff;}#sk-container-id-3 input.sk-hidden--visually {border: 0;clip: rect(1px 1px 1px 1px);clip: rect(1px, 1px, 1px, 1px);height: 1px;margin: -1px;overflow: hidden;padding: 0;position: absolute;width: 1px;}#sk-container-id-3 div.sk-estimator {font-family: monospace;background-color: #f0f8ff;border: 1px dotted black;border-radius: 0.25em;box-sizing: border-box;margin-bottom: 0.5em;}#sk-container-id-3 div.sk-estimator:hover {background-color: #d4ebff;}#sk-container-id-3 div.sk-parallel-item::after {content: \"\";width: 100%;border-bottom: 1px solid gray;flex-grow: 1;}#sk-container-id-3 div.sk-label:hover label.sk-toggleable__label {background-color: #d4ebff;}#sk-container-id-3 div.sk-serial::before {content: \"\";position: absolute;border-left: 1px solid gray;box-sizing: border-box;top: 0;bottom: 0;left: 50%;z-index: 0;}#sk-container-id-3 div.sk-serial {display: flex;flex-direction: column;align-items: center;background-color: white;padding-right: 0.2em;padding-left: 0.2em;position: relative;}#sk-container-id-3 div.sk-item {position: relative;z-index: 1;}#sk-container-id-3 div.sk-parallel {display: flex;align-items: stretch;justify-content: center;background-color: white;position: relative;}#sk-container-id-3 div.sk-item::before, #sk-container-id-3 div.sk-parallel-item::before {content: \"\";position: absolute;border-left: 1px solid gray;box-sizing: border-box;top: 0;bottom: 0;left: 50%;z-index: -1;}#sk-container-id-3 div.sk-parallel-item {display: flex;flex-direction: column;z-index: 1;position: relative;background-color: white;}#sk-container-id-3 div.sk-parallel-item:first-child::after {align-self: flex-end;width: 50%;}#sk-container-id-3 div.sk-parallel-item:last-child::after {align-self: flex-start;width: 50%;}#sk-container-id-3 div.sk-parallel-item:only-child::after {width: 0;}#sk-container-id-3 div.sk-dashed-wrapped {border: 1px dashed gray;margin: 0 0.4em 0.5em 0.4em;box-sizing: border-box;padding-bottom: 0.4em;background-color: white;}#sk-container-id-3 div.sk-label label {font-family: monospace;font-weight: bold;display: inline-block;line-height: 1.2em;}#sk-container-id-3 div.sk-label-container {text-align: center;}#sk-container-id-3 div.sk-container {/* jupyter's `normalize.less` sets `[hidden] { display: none; }` but bootstrap.min.css set `[hidden] { display: none !important; }` so we also need the `!important` here to be able to override the default hidden behavior on the sphinx rendered scikit-learn.org. See: https://github.com/scikit-learn/scikit-learn/issues/21755 */display: inline-block !important;position: relative;}#sk-container-id-3 div.sk-text-repr-fallback {display: none;}</style><div id=\"sk-container-id-3\" class=\"sk-top-container\"><div class=\"sk-text-repr-fallback\"><pre>DecisionTreeClassifier()</pre><b>In a Jupyter environment, please rerun this cell to show the HTML representation or trust the notebook. <br />On GitHub, the HTML representation is unable to render, please try loading this page with nbviewer.org.</b></div><div class=\"sk-container\" hidden><div class=\"sk-item\"><div class=\"sk-estimator sk-toggleable\"><input class=\"sk-toggleable__control sk-hidden--visually\" id=\"sk-estimator-id-3\" type=\"checkbox\" checked><label for=\"sk-estimator-id-3\" class=\"sk-toggleable__label sk-toggleable__label-arrow\">DecisionTreeClassifier</label><div class=\"sk-toggleable__content\"><pre>DecisionTreeClassifier()</pre></div></div></div></div></div>"
      ],
      "text/plain": [
       "DecisionTreeClassifier()"
      ]
     },
     "execution_count": 35,
     "metadata": {},
     "output_type": "execute_result"
    }
   ],
   "source": [
    "#create and train decisiontreeclassifier model\n",
    "models = DecisionTreeClassifier()\n",
    "models.fit(x_train,y_train)"
   ]
  },
  {
   "cell_type": "code",
   "execution_count": 36,
   "id": "11fb5d0d-96b3-4abc-9e5e-a99e8dedcfa8",
   "metadata": {},
   "outputs": [
    {
     "name": "stdout",
     "output_type": "stream",
     "text": [
      "[1 1 1 ... 1 1 1]\n"
     ]
    }
   ],
   "source": [
    "#predicting val data using decisiontreeclassifier model\n",
    "predict_train = models.predict(x_val)\n",
    "print(predict_train)"
   ]
  },
  {
   "cell_type": "code",
   "execution_count": 51,
   "id": "31f2e704-0ff2-4828-81d0-99f6e8d17760",
   "metadata": {},
   "outputs": [
    {
     "name": "stdout",
     "output_type": "stream",
     "text": [
      "Accuracy Decision Tree: 0.8110014104372355\n",
      "Classification Report:\n",
      "              precision    recall  f1-score   support\n",
      "\n",
      "           0       0.47      0.47      0.47       251\n",
      "           1       0.89      0.88      0.88      1167\n",
      "\n",
      "    accuracy                           0.81      1418\n",
      "   macro avg       0.68      0.68      0.68      1418\n",
      "weighted avg       0.81      0.81      0.81      1418\n",
      "\n"
     ]
    }
   ],
   "source": [
    "#checking for accuracy\n",
    "accuracy_train = accuracy_score(y_val,predict_train)\n",
    "print(\"Accuracy Decision Tree:\",accuracy_train)\n",
    "print(\"Classification Report:\")\n",
    "print(classification_report(y_val,predict_train))"
   ]
  },
  {
   "cell_type": "code",
   "execution_count": 38,
   "id": "a93fb5bf-c1e3-4dc7-b9d5-17d3b69a2b84",
   "metadata": {},
   "outputs": [
    {
     "name": "stdout",
     "output_type": "stream",
     "text": [
      "{'ccp_alpha': 0.0, 'class_weight': None, 'criterion': 'gini', 'max_depth': None, 'max_features': None, 'max_leaf_nodes': None, 'min_impurity_decrease': 0.0, 'min_samples_leaf': 1, 'min_samples_split': 2, 'min_weight_fraction_leaf': 0.0, 'random_state': None, 'splitter': 'best'}\n"
     ]
    }
   ],
   "source": [
    "#knowing parameter to tune for decisiontree model\n",
    "print(models.get_params())"
   ]
  },
  {
   "cell_type": "code",
   "execution_count": 39,
   "id": "7f972323-a5c2-4b1d-a638-adfb96e97489",
   "metadata": {},
   "outputs": [
    {
     "name": "stdout",
     "output_type": "stream",
     "text": [
      "{'C': 1.0, 'class_weight': None, 'dual': False, 'fit_intercept': True, 'intercept_scaling': 1, 'l1_ratio': None, 'max_iter': 100, 'multi_class': 'auto', 'n_jobs': None, 'penalty': 'l2', 'random_state': None, 'solver': 'lbfgs', 'tol': 0.0001, 'verbose': 0, 'warm_start': False}\n"
     ]
    }
   ],
   "source": [
    "#knowing parameter to tune for logistic model\n",
    "print(model.get_params())"
   ]
  },
  {
   "cell_type": "code",
   "execution_count": 40,
   "id": "9b95f1f9-d9d9-470b-9fcb-3d0fad17feb2",
   "metadata": {},
   "outputs": [
    {
     "name": "stdout",
     "output_type": "stream",
     "text": [
      "\n",
      "Feature Importance (Coefficient and Odds Ratio):\n",
      "     Feature  Coefficient  Odds Ratio\n",
      "9      exang     3.535999   34.329277\n",
      "2        sex     0.063637    1.065706\n",
      "11     slope     0.052478    1.053879\n",
      "12        ca     0.039702    1.040501\n",
      "4   trestbps     0.032183    1.032706\n",
      "6        fbs     0.025609    1.025940\n",
      "7    restecg     0.024088    1.024381\n",
      "10   oldpeak    -0.006926    0.993098\n",
      "1        age    -0.009248    0.990795\n",
      "13      thal    -0.025127    0.975186\n",
      "5       chol    -0.032227    0.968287\n",
      "8    thalach    -0.038920    0.961828\n",
      "0         id    -0.060849    0.940966\n",
      "3         cp    -0.708321    0.492470\n"
     ]
    }
   ],
   "source": [
    "# Coefficients and Odds Ratios for logistic model\n",
    "coefficients = model.coef_[0]\n",
    "odds_ratios = np.exp(coefficients)\n",
    "\n",
    "\n",
    "# Display feature importance using coefficients and odds ratios\n",
    "feature_importance = pd.DataFrame({\n",
    "    'Feature': x_train.columns,\n",
    "    'Coefficient': coefficients,\n",
    "    'Odds Ratio': odds_ratios\n",
    "})\n",
    "print(\"\\nFeature Importance (Coefficient and Odds Ratio):\")\n",
    "print(feature_importance.sort_values(by='Coefficient',\n",
    "                                     ascending=False))"
   ]
  },
  {
   "cell_type": "code",
   "execution_count": 41,
   "id": "d193ce57-3f85-46cf-89f4-15beb203f48d",
   "metadata": {},
   "outputs": [
    {
     "name": "stdout",
     "output_type": "stream",
     "text": [
      "\n",
      "Selected Features by RFE:\n",
      "Index(['id', 'sex', 'cp', 'exang', 'slope'], dtype='object')\n"
     ]
    }
   ],
   "source": [
    "# Recursive Feature Elimination (RFE)\n",
    "rfe_model = LogisticRegression(max_iter=10000, solver='liblinear')\n",
    "rfe = RFE(rfe_model, n_features_to_select=5)\n",
    "rfe.fit(x_train, y_train)\n",
    "\n",
    "rfe_features = x_train.columns[rfe.support_]\n",
    "print(\"\\nSelected Features by RFE:\")\n",
    "print(rfe_features)"
   ]
  },
  {
   "cell_type": "code",
   "execution_count": 43,
   "id": "9bc398c9-e7b5-4362-a703-7b89d5599a82",
   "metadata": {},
   "outputs": [
    {
     "name": "stdout",
     "output_type": "stream",
     "text": [
      "Accuracy: 0.8138222849083215\n",
      "Classification Report:\n",
      "              precision    recall  f1-score   support\n",
      "\n",
      "           0       0.46      0.32      0.38       251\n",
      "           1       0.86      0.92      0.89      1167\n",
      "\n",
      "    accuracy                           0.81      1418\n",
      "   macro avg       0.66      0.62      0.63      1418\n",
      "weighted avg       0.79      0.81      0.80      1418\n",
      "\n"
     ]
    }
   ],
   "source": [
    "#Checking accuracy  for logistic model after feature importance\n",
    "X_train_rfe = x_train[rfe_features]  \n",
    "X_test_rfe = x_val[rfe_features]   \n",
    "\n",
    "rfe_model.fit(X_train_rfe, y_train)\n",
    "\n",
    "y_pred = rfe_model.predict(X_test_rfe)\n",
    "\n",
    "accuracy = accuracy_score(y_val, y_pred)\n",
    "print(\"Accuracy:\",accuracy_score(y_val,y_pred))\n",
    "print(\"Classification Report:\")\n",
    "print(classification_report(y_val,y_pred))\n"
   ]
  },
  {
   "cell_type": "code",
   "execution_count": 44,
   "id": "6586caf7-eb50-440b-99bf-8b8549d8df20",
   "metadata": {},
   "outputs": [],
   "source": [
    "#adjusting parameter grid\n",
    "parameters = {'max_depth' : (10,30,50,70,90,100),\n",
    "              'criterion' : ('gini','entropy'),\n",
    "              'max_depth' : (3,5,7,9,10),\n",
    "              'max_features' : ('auto', 'sqrt', 'log2'),\n",
    "              'min_samples_split' : (2,4,6)\n",
    "             }\n",
    "              "
   ]
  },
  {
   "cell_type": "code",
   "execution_count": 45,
   "id": "02fe6de9-681d-486b-9ebd-c7f696839d88",
   "metadata": {},
   "outputs": [
    {
     "name": "stdout",
     "output_type": "stream",
     "text": [
      "Fitting 5 folds for each of 10 candidates, totalling 50 fits\n"
     ]
    },
    {
     "name": "stderr",
     "output_type": "stream",
     "text": [
      "C:\\Users\\Rihannat\\anaconda3\\Lib\\site-packages\\sklearn\\tree\\_classes.py:269: FutureWarning: `max_features='auto'` has been deprecated in 1.1 and will be removed in 1.3. To keep the past behaviour, explicitly set `max_features='sqrt'`.\n",
      "  warnings.warn(\n",
      "C:\\Users\\Rihannat\\anaconda3\\Lib\\site-packages\\sklearn\\tree\\_classes.py:269: FutureWarning: `max_features='auto'` has been deprecated in 1.1 and will be removed in 1.3. To keep the past behaviour, explicitly set `max_features='sqrt'`.\n",
      "  warnings.warn(\n",
      "C:\\Users\\Rihannat\\anaconda3\\Lib\\site-packages\\sklearn\\tree\\_classes.py:269: FutureWarning: `max_features='auto'` has been deprecated in 1.1 and will be removed in 1.3. To keep the past behaviour, explicitly set `max_features='sqrt'`.\n",
      "  warnings.warn(\n",
      "C:\\Users\\Rihannat\\anaconda3\\Lib\\site-packages\\sklearn\\tree\\_classes.py:269: FutureWarning: `max_features='auto'` has been deprecated in 1.1 and will be removed in 1.3. To keep the past behaviour, explicitly set `max_features='sqrt'`.\n",
      "  warnings.warn(\n",
      "C:\\Users\\Rihannat\\anaconda3\\Lib\\site-packages\\sklearn\\tree\\_classes.py:269: FutureWarning: `max_features='auto'` has been deprecated in 1.1 and will be removed in 1.3. To keep the past behaviour, explicitly set `max_features='sqrt'`.\n",
      "  warnings.warn(\n",
      "C:\\Users\\Rihannat\\anaconda3\\Lib\\site-packages\\sklearn\\tree\\_classes.py:269: FutureWarning: `max_features='auto'` has been deprecated in 1.1 and will be removed in 1.3. To keep the past behaviour, explicitly set `max_features='sqrt'`.\n",
      "  warnings.warn(\n",
      "C:\\Users\\Rihannat\\anaconda3\\Lib\\site-packages\\sklearn\\tree\\_classes.py:269: FutureWarning: `max_features='auto'` has been deprecated in 1.1 and will be removed in 1.3. To keep the past behaviour, explicitly set `max_features='sqrt'`.\n",
      "  warnings.warn(\n",
      "C:\\Users\\Rihannat\\anaconda3\\Lib\\site-packages\\sklearn\\tree\\_classes.py:269: FutureWarning: `max_features='auto'` has been deprecated in 1.1 and will be removed in 1.3. To keep the past behaviour, explicitly set `max_features='sqrt'`.\n",
      "  warnings.warn(\n",
      "C:\\Users\\Rihannat\\anaconda3\\Lib\\site-packages\\sklearn\\tree\\_classes.py:269: FutureWarning: `max_features='auto'` has been deprecated in 1.1 and will be removed in 1.3. To keep the past behaviour, explicitly set `max_features='sqrt'`.\n",
      "  warnings.warn(\n",
      "C:\\Users\\Rihannat\\anaconda3\\Lib\\site-packages\\sklearn\\tree\\_classes.py:269: FutureWarning: `max_features='auto'` has been deprecated in 1.1 and will be removed in 1.3. To keep the past behaviour, explicitly set `max_features='sqrt'`.\n",
      "  warnings.warn(\n",
      "C:\\Users\\Rihannat\\anaconda3\\Lib\\site-packages\\sklearn\\tree\\_classes.py:269: FutureWarning: `max_features='auto'` has been deprecated in 1.1 and will be removed in 1.3. To keep the past behaviour, explicitly set `max_features='sqrt'`.\n",
      "  warnings.warn(\n",
      "C:\\Users\\Rihannat\\anaconda3\\Lib\\site-packages\\sklearn\\tree\\_classes.py:269: FutureWarning: `max_features='auto'` has been deprecated in 1.1 and will be removed in 1.3. To keep the past behaviour, explicitly set `max_features='sqrt'`.\n",
      "  warnings.warn(\n",
      "C:\\Users\\Rihannat\\anaconda3\\Lib\\site-packages\\sklearn\\tree\\_classes.py:269: FutureWarning: `max_features='auto'` has been deprecated in 1.1 and will be removed in 1.3. To keep the past behaviour, explicitly set `max_features='sqrt'`.\n",
      "  warnings.warn(\n",
      "C:\\Users\\Rihannat\\anaconda3\\Lib\\site-packages\\sklearn\\tree\\_classes.py:269: FutureWarning: `max_features='auto'` has been deprecated in 1.1 and will be removed in 1.3. To keep the past behaviour, explicitly set `max_features='sqrt'`.\n",
      "  warnings.warn(\n",
      "C:\\Users\\Rihannat\\anaconda3\\Lib\\site-packages\\sklearn\\tree\\_classes.py:269: FutureWarning: `max_features='auto'` has been deprecated in 1.1 and will be removed in 1.3. To keep the past behaviour, explicitly set `max_features='sqrt'`.\n",
      "  warnings.warn(\n",
      "C:\\Users\\Rihannat\\anaconda3\\Lib\\site-packages\\sklearn\\tree\\_classes.py:269: FutureWarning: `max_features='auto'` has been deprecated in 1.1 and will be removed in 1.3. To keep the past behaviour, explicitly set `max_features='sqrt'`.\n",
      "  warnings.warn(\n",
      "C:\\Users\\Rihannat\\anaconda3\\Lib\\site-packages\\sklearn\\tree\\_classes.py:269: FutureWarning: `max_features='auto'` has been deprecated in 1.1 and will be removed in 1.3. To keep the past behaviour, explicitly set `max_features='sqrt'`.\n",
      "  warnings.warn(\n",
      "C:\\Users\\Rihannat\\anaconda3\\Lib\\site-packages\\sklearn\\tree\\_classes.py:269: FutureWarning: `max_features='auto'` has been deprecated in 1.1 and will be removed in 1.3. To keep the past behaviour, explicitly set `max_features='sqrt'`.\n",
      "  warnings.warn(\n",
      "C:\\Users\\Rihannat\\anaconda3\\Lib\\site-packages\\sklearn\\tree\\_classes.py:269: FutureWarning: `max_features='auto'` has been deprecated in 1.1 and will be removed in 1.3. To keep the past behaviour, explicitly set `max_features='sqrt'`.\n",
      "  warnings.warn(\n",
      "C:\\Users\\Rihannat\\anaconda3\\Lib\\site-packages\\sklearn\\tree\\_classes.py:269: FutureWarning: `max_features='auto'` has been deprecated in 1.1 and will be removed in 1.3. To keep the past behaviour, explicitly set `max_features='sqrt'`.\n",
      "  warnings.warn(\n",
      "C:\\Users\\Rihannat\\anaconda3\\Lib\\site-packages\\sklearn\\tree\\_classes.py:269: FutureWarning: `max_features='auto'` has been deprecated in 1.1 and will be removed in 1.3. To keep the past behaviour, explicitly set `max_features='sqrt'`.\n",
      "  warnings.warn(\n"
     ]
    },
    {
     "data": {
      "text/html": [
       "<style>#sk-container-id-4 {color: black;background-color: white;}#sk-container-id-4 pre{padding: 0;}#sk-container-id-4 div.sk-toggleable {background-color: white;}#sk-container-id-4 label.sk-toggleable__label {cursor: pointer;display: block;width: 100%;margin-bottom: 0;padding: 0.3em;box-sizing: border-box;text-align: center;}#sk-container-id-4 label.sk-toggleable__label-arrow:before {content: \"▸\";float: left;margin-right: 0.25em;color: #696969;}#sk-container-id-4 label.sk-toggleable__label-arrow:hover:before {color: black;}#sk-container-id-4 div.sk-estimator:hover label.sk-toggleable__label-arrow:before {color: black;}#sk-container-id-4 div.sk-toggleable__content {max-height: 0;max-width: 0;overflow: hidden;text-align: left;background-color: #f0f8ff;}#sk-container-id-4 div.sk-toggleable__content pre {margin: 0.2em;color: black;border-radius: 0.25em;background-color: #f0f8ff;}#sk-container-id-4 input.sk-toggleable__control:checked~div.sk-toggleable__content {max-height: 200px;max-width: 100%;overflow: auto;}#sk-container-id-4 input.sk-toggleable__control:checked~label.sk-toggleable__label-arrow:before {content: \"▾\";}#sk-container-id-4 div.sk-estimator input.sk-toggleable__control:checked~label.sk-toggleable__label {background-color: #d4ebff;}#sk-container-id-4 div.sk-label input.sk-toggleable__control:checked~label.sk-toggleable__label {background-color: #d4ebff;}#sk-container-id-4 input.sk-hidden--visually {border: 0;clip: rect(1px 1px 1px 1px);clip: rect(1px, 1px, 1px, 1px);height: 1px;margin: -1px;overflow: hidden;padding: 0;position: absolute;width: 1px;}#sk-container-id-4 div.sk-estimator {font-family: monospace;background-color: #f0f8ff;border: 1px dotted black;border-radius: 0.25em;box-sizing: border-box;margin-bottom: 0.5em;}#sk-container-id-4 div.sk-estimator:hover {background-color: #d4ebff;}#sk-container-id-4 div.sk-parallel-item::after {content: \"\";width: 100%;border-bottom: 1px solid gray;flex-grow: 1;}#sk-container-id-4 div.sk-label:hover label.sk-toggleable__label {background-color: #d4ebff;}#sk-container-id-4 div.sk-serial::before {content: \"\";position: absolute;border-left: 1px solid gray;box-sizing: border-box;top: 0;bottom: 0;left: 50%;z-index: 0;}#sk-container-id-4 div.sk-serial {display: flex;flex-direction: column;align-items: center;background-color: white;padding-right: 0.2em;padding-left: 0.2em;position: relative;}#sk-container-id-4 div.sk-item {position: relative;z-index: 1;}#sk-container-id-4 div.sk-parallel {display: flex;align-items: stretch;justify-content: center;background-color: white;position: relative;}#sk-container-id-4 div.sk-item::before, #sk-container-id-4 div.sk-parallel-item::before {content: \"\";position: absolute;border-left: 1px solid gray;box-sizing: border-box;top: 0;bottom: 0;left: 50%;z-index: -1;}#sk-container-id-4 div.sk-parallel-item {display: flex;flex-direction: column;z-index: 1;position: relative;background-color: white;}#sk-container-id-4 div.sk-parallel-item:first-child::after {align-self: flex-end;width: 50%;}#sk-container-id-4 div.sk-parallel-item:last-child::after {align-self: flex-start;width: 50%;}#sk-container-id-4 div.sk-parallel-item:only-child::after {width: 0;}#sk-container-id-4 div.sk-dashed-wrapped {border: 1px dashed gray;margin: 0 0.4em 0.5em 0.4em;box-sizing: border-box;padding-bottom: 0.4em;background-color: white;}#sk-container-id-4 div.sk-label label {font-family: monospace;font-weight: bold;display: inline-block;line-height: 1.2em;}#sk-container-id-4 div.sk-label-container {text-align: center;}#sk-container-id-4 div.sk-container {/* jupyter's `normalize.less` sets `[hidden] { display: none; }` but bootstrap.min.css set `[hidden] { display: none !important; }` so we also need the `!important` here to be able to override the default hidden behavior on the sphinx rendered scikit-learn.org. See: https://github.com/scikit-learn/scikit-learn/issues/21755 */display: inline-block !important;position: relative;}#sk-container-id-4 div.sk-text-repr-fallback {display: none;}</style><div id=\"sk-container-id-4\" class=\"sk-top-container\"><div class=\"sk-text-repr-fallback\"><pre>RandomizedSearchCV(cv=5, estimator=DecisionTreeClassifier(),\n",
       "                   param_distributions={&#x27;criterion&#x27;: (&#x27;gini&#x27;, &#x27;entropy&#x27;),\n",
       "                                        &#x27;max_depth&#x27;: (3, 5, 7, 9, 10),\n",
       "                                        &#x27;max_features&#x27;: (&#x27;auto&#x27;, &#x27;sqrt&#x27;,\n",
       "                                                         &#x27;log2&#x27;),\n",
       "                                        &#x27;min_samples_split&#x27;: (2, 4, 6)},\n",
       "                   verbose=True)</pre><b>In a Jupyter environment, please rerun this cell to show the HTML representation or trust the notebook. <br />On GitHub, the HTML representation is unable to render, please try loading this page with nbviewer.org.</b></div><div class=\"sk-container\" hidden><div class=\"sk-item sk-dashed-wrapped\"><div class=\"sk-label-container\"><div class=\"sk-label sk-toggleable\"><input class=\"sk-toggleable__control sk-hidden--visually\" id=\"sk-estimator-id-4\" type=\"checkbox\" ><label for=\"sk-estimator-id-4\" class=\"sk-toggleable__label sk-toggleable__label-arrow\">RandomizedSearchCV</label><div class=\"sk-toggleable__content\"><pre>RandomizedSearchCV(cv=5, estimator=DecisionTreeClassifier(),\n",
       "                   param_distributions={&#x27;criterion&#x27;: (&#x27;gini&#x27;, &#x27;entropy&#x27;),\n",
       "                                        &#x27;max_depth&#x27;: (3, 5, 7, 9, 10),\n",
       "                                        &#x27;max_features&#x27;: (&#x27;auto&#x27;, &#x27;sqrt&#x27;,\n",
       "                                                         &#x27;log2&#x27;),\n",
       "                                        &#x27;min_samples_split&#x27;: (2, 4, 6)},\n",
       "                   verbose=True)</pre></div></div></div><div class=\"sk-parallel\"><div class=\"sk-parallel-item\"><div class=\"sk-item\"><div class=\"sk-label-container\"><div class=\"sk-label sk-toggleable\"><input class=\"sk-toggleable__control sk-hidden--visually\" id=\"sk-estimator-id-5\" type=\"checkbox\" ><label for=\"sk-estimator-id-5\" class=\"sk-toggleable__label sk-toggleable__label-arrow\">estimator: DecisionTreeClassifier</label><div class=\"sk-toggleable__content\"><pre>DecisionTreeClassifier()</pre></div></div></div><div class=\"sk-serial\"><div class=\"sk-item\"><div class=\"sk-estimator sk-toggleable\"><input class=\"sk-toggleable__control sk-hidden--visually\" id=\"sk-estimator-id-6\" type=\"checkbox\" ><label for=\"sk-estimator-id-6\" class=\"sk-toggleable__label sk-toggleable__label-arrow\">DecisionTreeClassifier</label><div class=\"sk-toggleable__content\"><pre>DecisionTreeClassifier()</pre></div></div></div></div></div></div></div></div></div></div>"
      ],
      "text/plain": [
       "RandomizedSearchCV(cv=5, estimator=DecisionTreeClassifier(),\n",
       "                   param_distributions={'criterion': ('gini', 'entropy'),\n",
       "                                        'max_depth': (3, 5, 7, 9, 10),\n",
       "                                        'max_features': ('auto', 'sqrt',\n",
       "                                                         'log2'),\n",
       "                                        'min_samples_split': (2, 4, 6)},\n",
       "                   verbose=True)"
      ]
     },
     "execution_count": 45,
     "metadata": {},
     "output_type": "execute_result"
    }
   ],
   "source": [
    "# Create GridSearchCV\n",
    "gridcv = RandomizedSearchCV(DecisionTreeClassifier(), param_distributions = parameters, cv = 5, verbose = True)\n",
    "# Fit the model\n",
    "gridcv.fit(x_train,y_train)\n",
    "                            "
   ]
  },
  {
   "cell_type": "code",
   "execution_count": 47,
   "id": "c2fdb211-39ac-4c8c-bc34-c6f2f48b40e6",
   "metadata": {},
   "outputs": [],
   "source": [
    "# Using GridSearchCV best estimator\n",
    "remodel = gridcv.best_estimator_"
   ]
  },
  {
   "cell_type": "code",
   "execution_count": 48,
   "id": "aa553259-1453-473d-af35-5e4711f7db91",
   "metadata": {},
   "outputs": [
    {
     "data": {
      "text/html": [
       "<style>#sk-container-id-5 {color: black;background-color: white;}#sk-container-id-5 pre{padding: 0;}#sk-container-id-5 div.sk-toggleable {background-color: white;}#sk-container-id-5 label.sk-toggleable__label {cursor: pointer;display: block;width: 100%;margin-bottom: 0;padding: 0.3em;box-sizing: border-box;text-align: center;}#sk-container-id-5 label.sk-toggleable__label-arrow:before {content: \"▸\";float: left;margin-right: 0.25em;color: #696969;}#sk-container-id-5 label.sk-toggleable__label-arrow:hover:before {color: black;}#sk-container-id-5 div.sk-estimator:hover label.sk-toggleable__label-arrow:before {color: black;}#sk-container-id-5 div.sk-toggleable__content {max-height: 0;max-width: 0;overflow: hidden;text-align: left;background-color: #f0f8ff;}#sk-container-id-5 div.sk-toggleable__content pre {margin: 0.2em;color: black;border-radius: 0.25em;background-color: #f0f8ff;}#sk-container-id-5 input.sk-toggleable__control:checked~div.sk-toggleable__content {max-height: 200px;max-width: 100%;overflow: auto;}#sk-container-id-5 input.sk-toggleable__control:checked~label.sk-toggleable__label-arrow:before {content: \"▾\";}#sk-container-id-5 div.sk-estimator input.sk-toggleable__control:checked~label.sk-toggleable__label {background-color: #d4ebff;}#sk-container-id-5 div.sk-label input.sk-toggleable__control:checked~label.sk-toggleable__label {background-color: #d4ebff;}#sk-container-id-5 input.sk-hidden--visually {border: 0;clip: rect(1px 1px 1px 1px);clip: rect(1px, 1px, 1px, 1px);height: 1px;margin: -1px;overflow: hidden;padding: 0;position: absolute;width: 1px;}#sk-container-id-5 div.sk-estimator {font-family: monospace;background-color: #f0f8ff;border: 1px dotted black;border-radius: 0.25em;box-sizing: border-box;margin-bottom: 0.5em;}#sk-container-id-5 div.sk-estimator:hover {background-color: #d4ebff;}#sk-container-id-5 div.sk-parallel-item::after {content: \"\";width: 100%;border-bottom: 1px solid gray;flex-grow: 1;}#sk-container-id-5 div.sk-label:hover label.sk-toggleable__label {background-color: #d4ebff;}#sk-container-id-5 div.sk-serial::before {content: \"\";position: absolute;border-left: 1px solid gray;box-sizing: border-box;top: 0;bottom: 0;left: 50%;z-index: 0;}#sk-container-id-5 div.sk-serial {display: flex;flex-direction: column;align-items: center;background-color: white;padding-right: 0.2em;padding-left: 0.2em;position: relative;}#sk-container-id-5 div.sk-item {position: relative;z-index: 1;}#sk-container-id-5 div.sk-parallel {display: flex;align-items: stretch;justify-content: center;background-color: white;position: relative;}#sk-container-id-5 div.sk-item::before, #sk-container-id-5 div.sk-parallel-item::before {content: \"\";position: absolute;border-left: 1px solid gray;box-sizing: border-box;top: 0;bottom: 0;left: 50%;z-index: -1;}#sk-container-id-5 div.sk-parallel-item {display: flex;flex-direction: column;z-index: 1;position: relative;background-color: white;}#sk-container-id-5 div.sk-parallel-item:first-child::after {align-self: flex-end;width: 50%;}#sk-container-id-5 div.sk-parallel-item:last-child::after {align-self: flex-start;width: 50%;}#sk-container-id-5 div.sk-parallel-item:only-child::after {width: 0;}#sk-container-id-5 div.sk-dashed-wrapped {border: 1px dashed gray;margin: 0 0.4em 0.5em 0.4em;box-sizing: border-box;padding-bottom: 0.4em;background-color: white;}#sk-container-id-5 div.sk-label label {font-family: monospace;font-weight: bold;display: inline-block;line-height: 1.2em;}#sk-container-id-5 div.sk-label-container {text-align: center;}#sk-container-id-5 div.sk-container {/* jupyter's `normalize.less` sets `[hidden] { display: none; }` but bootstrap.min.css set `[hidden] { display: none !important; }` so we also need the `!important` here to be able to override the default hidden behavior on the sphinx rendered scikit-learn.org. See: https://github.com/scikit-learn/scikit-learn/issues/21755 */display: inline-block !important;position: relative;}#sk-container-id-5 div.sk-text-repr-fallback {display: none;}</style><div id=\"sk-container-id-5\" class=\"sk-top-container\"><div class=\"sk-text-repr-fallback\"><pre>DecisionTreeClassifier(max_depth=10, max_features=&#x27;log2&#x27;, min_samples_split=6)</pre><b>In a Jupyter environment, please rerun this cell to show the HTML representation or trust the notebook. <br />On GitHub, the HTML representation is unable to render, please try loading this page with nbviewer.org.</b></div><div class=\"sk-container\" hidden><div class=\"sk-item\"><div class=\"sk-estimator sk-toggleable\"><input class=\"sk-toggleable__control sk-hidden--visually\" id=\"sk-estimator-id-7\" type=\"checkbox\" checked><label for=\"sk-estimator-id-7\" class=\"sk-toggleable__label sk-toggleable__label-arrow\">DecisionTreeClassifier</label><div class=\"sk-toggleable__content\"><pre>DecisionTreeClassifier(max_depth=10, max_features=&#x27;log2&#x27;, min_samples_split=6)</pre></div></div></div></div></div>"
      ],
      "text/plain": [
       "DecisionTreeClassifier(max_depth=10, max_features='log2', min_samples_split=6)"
      ]
     },
     "execution_count": 48,
     "metadata": {},
     "output_type": "execute_result"
    }
   ],
   "source": [
    "remodel = DecisionTreeClassifier(max_depth=10, max_features='log2', min_samples_split=6)\n",
    "remodel.fit(x_train,y_train)"
   ]
  },
  {
   "cell_type": "code",
   "execution_count": 49,
   "id": "8a11d123-6d11-4e3b-99bb-7203638cfae0",
   "metadata": {},
   "outputs": [
    {
     "name": "stdout",
     "output_type": "stream",
     "text": [
      "[1 1 1 ... 1 1 1]\n"
     ]
    }
   ],
   "source": [
    "# Predictions and accuracy\n",
    "predict_remodel = remodel.predict(x_val)\n",
    "print(predict_remodel)"
   ]
  },
  {
   "cell_type": "code",
   "execution_count": 50,
   "id": "5968429a-4e11-43d2-b951-5289757ba001",
   "metadata": {},
   "outputs": [
    {
     "name": "stdout",
     "output_type": "stream",
     "text": [
      "Accuracy Decision Tree: 0.8110014104372355\n"
     ]
    }
   ],
   "source": [
    "# Predictions and accuracy train data\n",
    "accuracy_remodel = accuracy_score(y_val,predict_remodel)\n",
    "print(\"Accuracy Decision Tree:\",accuracy_train)"
   ]
  },
  {
   "cell_type": "code",
   "execution_count": 21,
   "id": "19d3aac5-dd77-40a1-ab89-42bb83f043ad",
   "metadata": {},
   "outputs": [
    {
     "data": {
      "text/html": [
       "<div>\n",
       "<style scoped>\n",
       "    .dataframe tbody tr th:only-of-type {\n",
       "        vertical-align: middle;\n",
       "    }\n",
       "\n",
       "    .dataframe tbody tr th {\n",
       "        vertical-align: top;\n",
       "    }\n",
       "\n",
       "    .dataframe thead th {\n",
       "        text-align: right;\n",
       "    }\n",
       "</style>\n",
       "<table border=\"1\" class=\"dataframe\">\n",
       "  <thead>\n",
       "    <tr style=\"text-align: right;\">\n",
       "      <th></th>\n",
       "      <th>id</th>\n",
       "      <th>age</th>\n",
       "      <th>sex</th>\n",
       "      <th>cp</th>\n",
       "      <th>trestbps</th>\n",
       "      <th>chol</th>\n",
       "      <th>fbs</th>\n",
       "      <th>restecg</th>\n",
       "      <th>thalach</th>\n",
       "      <th>exang</th>\n",
       "      <th>oldpeak</th>\n",
       "      <th>slope</th>\n",
       "      <th>ca</th>\n",
       "      <th>thal</th>\n",
       "    </tr>\n",
       "  </thead>\n",
       "  <tbody>\n",
       "    <tr>\n",
       "      <th>0</th>\n",
       "      <td>16501</td>\n",
       "      <td>70</td>\n",
       "      <td>1</td>\n",
       "      <td>0</td>\n",
       "      <td>163</td>\n",
       "      <td>495</td>\n",
       "      <td>0</td>\n",
       "      <td>2</td>\n",
       "      <td>170</td>\n",
       "      <td>1</td>\n",
       "      <td>2.0</td>\n",
       "      <td>1</td>\n",
       "      <td>0</td>\n",
       "      <td>1</td>\n",
       "    </tr>\n",
       "    <tr>\n",
       "      <th>1</th>\n",
       "      <td>10444</td>\n",
       "      <td>61</td>\n",
       "      <td>1</td>\n",
       "      <td>0</td>\n",
       "      <td>131</td>\n",
       "      <td>238</td>\n",
       "      <td>0</td>\n",
       "      <td>2</td>\n",
       "      <td>74</td>\n",
       "      <td>1</td>\n",
       "      <td>4.9</td>\n",
       "      <td>2</td>\n",
       "      <td>2</td>\n",
       "      <td>2</td>\n",
       "    </tr>\n",
       "    <tr>\n",
       "      <th>2</th>\n",
       "      <td>14288</td>\n",
       "      <td>53</td>\n",
       "      <td>1</td>\n",
       "      <td>0</td>\n",
       "      <td>95</td>\n",
       "      <td>558</td>\n",
       "      <td>1</td>\n",
       "      <td>1</td>\n",
       "      <td>73</td>\n",
       "      <td>1</td>\n",
       "      <td>0.7</td>\n",
       "      <td>1</td>\n",
       "      <td>1</td>\n",
       "      <td>0</td>\n",
       "    </tr>\n",
       "    <tr>\n",
       "      <th>3</th>\n",
       "      <td>10409</td>\n",
       "      <td>37</td>\n",
       "      <td>0</td>\n",
       "      <td>1</td>\n",
       "      <td>178</td>\n",
       "      <td>287</td>\n",
       "      <td>0</td>\n",
       "      <td>1</td>\n",
       "      <td>192</td>\n",
       "      <td>1</td>\n",
       "      <td>5.7</td>\n",
       "      <td>1</td>\n",
       "      <td>0</td>\n",
       "      <td>0</td>\n",
       "    </tr>\n",
       "    <tr>\n",
       "      <th>4</th>\n",
       "      <td>17330</td>\n",
       "      <td>35</td>\n",
       "      <td>0</td>\n",
       "      <td>3</td>\n",
       "      <td>104</td>\n",
       "      <td>281</td>\n",
       "      <td>0</td>\n",
       "      <td>0</td>\n",
       "      <td>122</td>\n",
       "      <td>0</td>\n",
       "      <td>1.3</td>\n",
       "      <td>1</td>\n",
       "      <td>4</td>\n",
       "      <td>3</td>\n",
       "    </tr>\n",
       "  </tbody>\n",
       "</table>\n",
       "</div>"
      ],
      "text/plain": [
       "      id  age  sex  cp  trestbps  chol  fbs  restecg  thalach  exang  oldpeak  \\\n",
       "0  16501   70    1   0       163   495    0        2      170      1      2.0   \n",
       "1  10444   61    1   0       131   238    0        2       74      1      4.9   \n",
       "2  14288   53    1   0        95   558    1        1       73      1      0.7   \n",
       "3  10409   37    0   1       178   287    0        1      192      1      5.7   \n",
       "4  17330   35    0   3       104   281    0        0      122      0      1.3   \n",
       "\n",
       "   slope  ca  thal  \n",
       "0      1   0     1  \n",
       "1      2   2     2  \n",
       "2      1   1     0  \n",
       "3      1   0     0  \n",
       "4      1   4     3  "
      ]
     },
     "execution_count": 21,
     "metadata": {},
     "output_type": "execute_result"
    }
   ],
   "source": [
    "# Import necessary libraries\n",
    "#import Test Data\n",
    "data_path = \"/Users/Rihannat/Downloads/Test Dataset.csv\"\n",
    "df_test = pd.read_csv(data_path)\n",
    "df_test.head()"
   ]
  },
  {
   "cell_type": "code",
   "execution_count": 22,
   "id": "686fe8e0-972a-4b51-be35-ebe21a6b852e",
   "metadata": {},
   "outputs": [
    {
     "data": {
      "text/html": [
       "<div>\n",
       "<style scoped>\n",
       "    .dataframe tbody tr th:only-of-type {\n",
       "        vertical-align: middle;\n",
       "    }\n",
       "\n",
       "    .dataframe tbody tr th {\n",
       "        vertical-align: top;\n",
       "    }\n",
       "\n",
       "    .dataframe thead th {\n",
       "        text-align: right;\n",
       "    }\n",
       "</style>\n",
       "<table border=\"1\" class=\"dataframe\">\n",
       "  <thead>\n",
       "    <tr style=\"text-align: right;\">\n",
       "      <th></th>\n",
       "      <th>id</th>\n",
       "      <th>age</th>\n",
       "      <th>sex</th>\n",
       "      <th>cp</th>\n",
       "      <th>trestbps</th>\n",
       "      <th>chol</th>\n",
       "      <th>fbs</th>\n",
       "      <th>restecg</th>\n",
       "      <th>thalach</th>\n",
       "      <th>exang</th>\n",
       "      <th>oldpeak</th>\n",
       "      <th>slope</th>\n",
       "      <th>ca</th>\n",
       "      <th>thal</th>\n",
       "    </tr>\n",
       "  </thead>\n",
       "  <tbody>\n",
       "    <tr>\n",
       "      <th>0</th>\n",
       "      <td>0.540495</td>\n",
       "      <td>1.180311</td>\n",
       "      <td>1.022879</td>\n",
       "      <td>-1.352098</td>\n",
       "      <td>0.542359</td>\n",
       "      <td>1.186502</td>\n",
       "      <td>-0.994454</td>\n",
       "      <td>1.206332</td>\n",
       "      <td>0.885296</td>\n",
       "      <td>1.031263</td>\n",
       "      <td>-0.631450</td>\n",
       "      <td>-0.014106</td>\n",
       "      <td>-1.454633</td>\n",
       "      <td>-0.422556</td>\n",
       "    </tr>\n",
       "    <tr>\n",
       "      <th>1</th>\n",
       "      <td>-1.556510</td>\n",
       "      <td>0.553060</td>\n",
       "      <td>1.022879</td>\n",
       "      <td>-1.352098</td>\n",
       "      <td>-0.502201</td>\n",
       "      <td>-0.833280</td>\n",
       "      <td>-0.994454</td>\n",
       "      <td>1.206332</td>\n",
       "      <td>-1.613872</td>\n",
       "      <td>1.031263</td>\n",
       "      <td>0.971054</td>\n",
       "      <td>1.213152</td>\n",
       "      <td>-0.023089</td>\n",
       "      <td>0.469874</td>\n",
       "    </tr>\n",
       "    <tr>\n",
       "      <th>2</th>\n",
       "      <td>-0.225672</td>\n",
       "      <td>-0.004496</td>\n",
       "      <td>1.022879</td>\n",
       "      <td>-1.352098</td>\n",
       "      <td>-1.677331</td>\n",
       "      <td>1.681623</td>\n",
       "      <td>1.005577</td>\n",
       "      <td>-0.026046</td>\n",
       "      <td>-1.639905</td>\n",
       "      <td>1.031263</td>\n",
       "      <td>-1.349814</td>\n",
       "      <td>-0.014106</td>\n",
       "      <td>-0.738861</td>\n",
       "      <td>-1.314986</td>\n",
       "    </tr>\n",
       "    <tr>\n",
       "      <th>3</th>\n",
       "      <td>-1.568628</td>\n",
       "      <td>-1.119610</td>\n",
       "      <td>-0.977632</td>\n",
       "      <td>-0.453255</td>\n",
       "      <td>1.031997</td>\n",
       "      <td>-0.448186</td>\n",
       "      <td>-0.994454</td>\n",
       "      <td>-0.026046</td>\n",
       "      <td>1.458022</td>\n",
       "      <td>1.031263</td>\n",
       "      <td>1.413124</td>\n",
       "      <td>-0.014106</td>\n",
       "      <td>-1.454633</td>\n",
       "      <td>-1.314986</td>\n",
       "    </tr>\n",
       "    <tr>\n",
       "      <th>4</th>\n",
       "      <td>0.827504</td>\n",
       "      <td>-1.258999</td>\n",
       "      <td>-0.977632</td>\n",
       "      <td>1.344433</td>\n",
       "      <td>-1.383549</td>\n",
       "      <td>-0.495340</td>\n",
       "      <td>-0.994454</td>\n",
       "      <td>-1.258424</td>\n",
       "      <td>-0.364288</td>\n",
       "      <td>-0.969684</td>\n",
       "      <td>-1.018261</td>\n",
       "      <td>-0.014106</td>\n",
       "      <td>1.408454</td>\n",
       "      <td>1.362304</td>\n",
       "    </tr>\n",
       "  </tbody>\n",
       "</table>\n",
       "</div>"
      ],
      "text/plain": [
       "         id       age       sex        cp  trestbps      chol       fbs  \\\n",
       "0  0.540495  1.180311  1.022879 -1.352098  0.542359  1.186502 -0.994454   \n",
       "1 -1.556510  0.553060  1.022879 -1.352098 -0.502201 -0.833280 -0.994454   \n",
       "2 -0.225672 -0.004496  1.022879 -1.352098 -1.677331  1.681623  1.005577   \n",
       "3 -1.568628 -1.119610 -0.977632 -0.453255  1.031997 -0.448186 -0.994454   \n",
       "4  0.827504 -1.258999 -0.977632  1.344433 -1.383549 -0.495340 -0.994454   \n",
       "\n",
       "    restecg   thalach     exang   oldpeak     slope        ca      thal  \n",
       "0  1.206332  0.885296  1.031263 -0.631450 -0.014106 -1.454633 -0.422556  \n",
       "1  1.206332 -1.613872  1.031263  0.971054  1.213152 -0.023089  0.469874  \n",
       "2 -0.026046 -1.639905  1.031263 -1.349814 -0.014106 -0.738861 -1.314986  \n",
       "3 -0.026046  1.458022  1.031263  1.413124 -0.014106 -1.454633 -1.314986  \n",
       "4 -1.258424 -0.364288 -0.969684 -1.018261 -0.014106  1.408454  1.362304  "
      ]
     },
     "execution_count": 22,
     "metadata": {},
     "output_type": "execute_result"
    }
   ],
   "source": [
    "#scaling test data\n",
    "scaler = StandardScaler()\n",
    "x_test_scaled = scaler.fit_transform(df_test)\n",
    "x_test_scaled = pd.DataFrame(x_test_scaled, columns=df_test.columns)\n",
    "x_test_scaled.head()"
   ]
  },
  {
   "cell_type": "code",
   "execution_count": 255,
   "id": "9daeb297-e14a-4bdb-8b01-799b26a68801",
   "metadata": {},
   "outputs": [
    {
     "name": "stdout",
     "output_type": "stream",
     "text": [
      "[1 1 1 ... 1 1 0]\n"
     ]
    }
   ],
   "source": [
    "test_predicts = remodel.predict(x_test_scaled)\n",
    "print(test_predicts)"
   ]
  },
  {
   "cell_type": "code",
   "execution_count": 256,
   "id": "3a67668c-1382-4912-b747-373e50b8c266",
   "metadata": {},
   "outputs": [],
   "source": [
    "# Load the submission Excel file\n",
    "#file_path = 'path_to_existing_file.xlsx'  # Replace with your actual file path\n",
    "data_path = \"/Users/Rihannat/Downloads/Sample Submission.csv\"\n",
    "df = pd.read_csv(data_path)\n",
    "\n",
    "\n",
    "\n",
    "#'trarget' is the name of the empty column where you need to insert predictions\n",
    "df['target'] = test_predicts  # Replace 'Target' with the actual column name\n",
    "\n",
    "# Save the updated DataFrame back to the Excel file\n",
    "df.to_csv('Heart disease prediction.csv', index=False)"
   ]
  },
  {
   "cell_type": "code",
   "execution_count": null,
   "id": "7c3d6ce6-d256-44b1-ab19-6679540454cd",
   "metadata": {},
   "outputs": [],
   "source": [
    "submission = pd.Dataframe({\n",
    "    'id':x_test_scaled['id'],\n",
    "    'target':test_predict\n",
    "}\n",
    "                         )\n",
    "submission.to_csv('Heart prediction.csv',index=False)"
   ]
  },
  {
   "cell_type": "code",
   "execution_count": null,
   "id": "1bd75599-5e06-4358-b948-46e9209958c4",
   "metadata": {},
   "outputs": [],
   "source": []
  }
 ],
 "metadata": {
  "kernelspec": {
   "display_name": "Python 3 (ipykernel)",
   "language": "python",
   "name": "python3"
  },
  "language_info": {
   "codemirror_mode": {
    "name": "ipython",
    "version": 3
   },
   "file_extension": ".py",
   "mimetype": "text/x-python",
   "name": "python",
   "nbconvert_exporter": "python",
   "pygments_lexer": "ipython3",
   "version": "3.11.7"
  }
 },
 "nbformat": 4,
 "nbformat_minor": 5
}
